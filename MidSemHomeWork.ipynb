{
  "nbformat": 4,
  "nbformat_minor": 0,
  "metadata": {
    "colab": {
      "provenance": [],
      "authorship_tag": "ABX9TyMsy8GcpORcE/OSyag4IijS",
      "include_colab_link": true
    },
    "kernelspec": {
      "name": "python3",
      "display_name": "Python 3"
    },
    "language_info": {
      "name": "python"
    }
  },
  "cells": [
    {
      "cell_type": "markdown",
      "metadata": {
        "id": "view-in-github",
        "colab_type": "text"
      },
      "source": [
        "<a href=\"https://colab.research.google.com/github/Andyqballer/Image-Resolution/blob/main/MidSemHomeWork.ipynb\" target=\"_parent\"><img src=\"https://colab.research.google.com/assets/colab-badge.svg\" alt=\"Open In Colab\"/></a>"
      ]
    },
    {
      "cell_type": "code",
      "execution_count": 3,
      "metadata": {
        "colab": {
          "base_uri": "https://localhost:8080/"
        },
        "id": "ELKzGu7nFCIS",
        "outputId": "70b9003f-9885-42ca-a576-9518c76af64a"
      },
      "outputs": [
        {
          "output_type": "stream",
          "name": "stdout",
          "text": [
            "Using device: cpu\n"
          ]
        },
        {
          "output_type": "stream",
          "name": "stderr",
          "text": [
            "WARNING:matplotlib.image:Clipping input data to the valid range for imshow with RGB data ([0..1] for floats or [0..255] for integers).\n",
            "WARNING:matplotlib.image:Clipping input data to the valid range for imshow with RGB data ([0..1] for floats or [0..255] for integers).\n",
            "WARNING:matplotlib.image:Clipping input data to the valid range for imshow with RGB data ([0..1] for floats or [0..255] for integers).\n",
            "WARNING:matplotlib.image:Clipping input data to the valid range for imshow with RGB data ([0..1] for floats or [0..255] for integers).\n",
            "WARNING:matplotlib.image:Clipping input data to the valid range for imshow with RGB data ([0..1] for floats or [0..255] for integers).\n",
            "WARNING:matplotlib.image:Clipping input data to the valid range for imshow with RGB data ([0..1] for floats or [0..255] for integers).\n",
            "WARNING:matplotlib.image:Clipping input data to the valid range for imshow with RGB data ([0..1] for floats or [0..255] for integers).\n",
            "WARNING:matplotlib.image:Clipping input data to the valid range for imshow with RGB data ([0..1] for floats or [0..255] for integers).\n",
            "WARNING:matplotlib.image:Clipping input data to the valid range for imshow with RGB data ([0..1] for floats or [0..255] for integers).\n",
            "WARNING:matplotlib.image:Clipping input data to the valid range for imshow with RGB data ([0..1] for floats or [0..255] for integers).\n",
            "/usr/local/lib/python3.10/dist-packages/torchvision/models/_utils.py:208: UserWarning: The parameter 'pretrained' is deprecated since 0.13 and may be removed in the future, please use 'weights' instead.\n",
            "  warnings.warn(\n",
            "/usr/local/lib/python3.10/dist-packages/torchvision/models/_utils.py:223: UserWarning: Arguments other than a weight enum or `None` for 'weights' are deprecated since 0.13 and may be removed in the future. The current behavior is equivalent to passing `weights=ResNet18_Weights.IMAGENET1K_V1`. You can also use `weights=ResNet18_Weights.DEFAULT` to get the most up-to-date weights.\n",
            "  warnings.warn(msg)\n",
            "Epoch 1/150: 100%|██████████| 10/10 [01:43<00:00, 10.39s/it, G_loss=0.91, D_loss=0.629, ClsA_loss=0.128, ClsB_loss=3.35]\n"
          ]
        },
        {
          "output_type": "stream",
          "name": "stdout",
          "text": [
            "\n",
            "Epoch 1 Summary:\n",
            "Generator Loss: 1.8307\n",
            "Discriminator Loss: 0.6431\n",
            "Classifier A - Loss: 0.7108, Acc: 0.7881\n",
            "Classifier B - Loss: 1.3670, Acc: 0.6026\n"
          ]
        },
        {
          "output_type": "stream",
          "name": "stderr",
          "text": [
            "Epoch 2/150: 100%|██████████| 10/10 [01:32<00:00,  9.28s/it, G_loss=0.767, D_loss=0.64, ClsA_loss=0.0973, ClsB_loss=0.646]\n"
          ]
        },
        {
          "output_type": "stream",
          "name": "stdout",
          "text": [
            "\n",
            "Epoch 2 Summary:\n",
            "Generator Loss: 0.8433\n",
            "Discriminator Loss: 0.6422\n",
            "Classifier A - Loss: 0.3981, Acc: 0.8874\n",
            "Classifier B - Loss: 0.7617, Acc: 0.6424\n"
          ]
        },
        {
          "output_type": "stream",
          "name": "stderr",
          "text": [
            "Epoch 3/150: 100%|██████████| 10/10 [01:32<00:00,  9.25s/it, G_loss=0.671, D_loss=0.558, ClsA_loss=0.0979, ClsB_loss=0.759]\n"
          ]
        },
        {
          "output_type": "stream",
          "name": "stdout",
          "text": [
            "\n",
            "Epoch 3 Summary:\n",
            "Generator Loss: 0.7313\n",
            "Discriminator Loss: 0.5945\n",
            "Classifier A - Loss: 0.1249, Acc: 0.9470\n",
            "Classifier B - Loss: 0.7006, Acc: 0.6291\n"
          ]
        },
        {
          "output_type": "stream",
          "name": "stderr",
          "text": [
            "Epoch 4/150: 100%|██████████| 10/10 [01:33<00:00,  9.30s/it, G_loss=0.808, D_loss=0.539, ClsA_loss=0.00241, ClsB_loss=1.02]\n"
          ]
        },
        {
          "output_type": "stream",
          "name": "stdout",
          "text": [
            "\n",
            "Epoch 4 Summary:\n",
            "Generator Loss: 0.7139\n",
            "Discriminator Loss: 0.5444\n",
            "Classifier A - Loss: 0.0327, Acc: 0.9934\n",
            "Classifier B - Loss: 0.6288, Acc: 0.6424\n"
          ]
        },
        {
          "output_type": "stream",
          "name": "stderr",
          "text": [
            "Epoch 5/150: 100%|██████████| 10/10 [01:32<00:00,  9.28s/it, G_loss=0.558, D_loss=0.51, ClsA_loss=0.0297, ClsB_loss=0.805]\n"
          ]
        },
        {
          "output_type": "stream",
          "name": "stdout",
          "text": [
            "\n",
            "Epoch 5 Summary:\n",
            "Generator Loss: 0.6496\n",
            "Discriminator Loss: 0.5212\n",
            "Classifier A - Loss: 0.0783, Acc: 0.9669\n",
            "Classifier B - Loss: 0.5902, Acc: 0.7152\n"
          ]
        },
        {
          "output_type": "stream",
          "name": "stderr",
          "text": [
            "Epoch 6/150: 100%|██████████| 10/10 [01:31<00:00,  9.13s/it, G_loss=0.554, D_loss=0.508, ClsA_loss=0.0316, ClsB_loss=0.522]\n"
          ]
        },
        {
          "output_type": "stream",
          "name": "stdout",
          "text": [
            "\n",
            "Epoch 6 Summary:\n",
            "Generator Loss: 0.6036\n",
            "Discriminator Loss: 0.5046\n",
            "Classifier A - Loss: 0.0316, Acc: 0.9868\n",
            "Classifier B - Loss: 0.5250, Acc: 0.7152\n"
          ]
        },
        {
          "output_type": "stream",
          "name": "stderr",
          "text": [
            "Epoch 7/150: 100%|██████████| 10/10 [01:31<00:00,  9.12s/it, G_loss=0.562, D_loss=0.469, ClsA_loss=0.00321, ClsB_loss=0.495]\n"
          ]
        },
        {
          "output_type": "stream",
          "name": "stdout",
          "text": [
            "\n",
            "Epoch 7 Summary:\n",
            "Generator Loss: 0.5787\n",
            "Discriminator Loss: 0.4797\n",
            "Classifier A - Loss: 0.0101, Acc: 1.0000\n",
            "Classifier B - Loss: 0.4072, Acc: 0.8079\n"
          ]
        },
        {
          "output_type": "stream",
          "name": "stderr",
          "text": [
            "Epoch 8/150: 100%|██████████| 10/10 [01:30<00:00,  9.00s/it, G_loss=0.592, D_loss=0.498, ClsA_loss=0.0153, ClsB_loss=0.174]\n"
          ]
        },
        {
          "output_type": "stream",
          "name": "stdout",
          "text": [
            "\n",
            "Epoch 8 Summary:\n",
            "Generator Loss: 0.5513\n",
            "Discriminator Loss: 0.4667\n",
            "Classifier A - Loss: 0.0037, Acc: 1.0000\n",
            "Classifier B - Loss: 0.2741, Acc: 0.8675\n"
          ]
        },
        {
          "output_type": "stream",
          "name": "stderr",
          "text": [
            "Epoch 9/150: 100%|██████████| 10/10 [01:29<00:00,  8.92s/it, G_loss=0.458, D_loss=0.443, ClsA_loss=0.000888, ClsB_loss=0.97]\n"
          ]
        },
        {
          "output_type": "stream",
          "name": "stdout",
          "text": [
            "\n",
            "Epoch 9 Summary:\n",
            "Generator Loss: 0.5205\n",
            "Discriminator Loss: 0.4521\n",
            "Classifier A - Loss: 0.0011, Acc: 1.0000\n",
            "Classifier B - Loss: 0.2321, Acc: 0.9470\n"
          ]
        },
        {
          "output_type": "stream",
          "name": "stderr",
          "text": [
            "Epoch 10/150: 100%|██████████| 10/10 [01:29<00:00,  8.92s/it, G_loss=0.424, D_loss=0.403, ClsA_loss=0.00422, ClsB_loss=0.427]\n"
          ]
        },
        {
          "output_type": "stream",
          "name": "stdout",
          "text": [
            "\n",
            "Epoch 10 Summary:\n",
            "Generator Loss: 0.4996\n",
            "Discriminator Loss: 0.4138\n",
            "Classifier A - Loss: 0.0036, Acc: 1.0000\n",
            "Classifier B - Loss: 0.2976, Acc: 0.8675\n"
          ]
        },
        {
          "output_type": "stream",
          "name": "stderr",
          "text": [
            "Epoch 11/150: 100%|██████████| 10/10 [01:30<00:00,  9.09s/it, G_loss=0.516, D_loss=0.361, ClsA_loss=0.0274, ClsB_loss=0.215]\n"
          ]
        },
        {
          "output_type": "stream",
          "name": "stdout",
          "text": [
            "\n",
            "Epoch 11 Summary:\n",
            "Generator Loss: 0.4968\n",
            "Discriminator Loss: 0.3816\n",
            "Classifier A - Loss: 0.0119, Acc: 0.9934\n",
            "Classifier B - Loss: 0.2627, Acc: 0.8742\n"
          ]
        },
        {
          "output_type": "stream",
          "name": "stderr",
          "text": [
            "Epoch 12/150: 100%|██████████| 10/10 [01:30<00:00,  9.08s/it, G_loss=0.5, D_loss=0.334, ClsA_loss=0.00155, ClsB_loss=0.0453]\n"
          ]
        },
        {
          "output_type": "stream",
          "name": "stdout",
          "text": [
            "\n",
            "Epoch 12 Summary:\n",
            "Generator Loss: 0.4900\n",
            "Discriminator Loss: 0.3502\n",
            "Classifier A - Loss: 0.0014, Acc: 1.0000\n",
            "Classifier B - Loss: 0.1560, Acc: 0.9338\n"
          ]
        },
        {
          "output_type": "stream",
          "name": "stderr",
          "text": [
            "Epoch 13/150: 100%|██████████| 10/10 [01:28<00:00,  8.88s/it, G_loss=0.439, D_loss=0.309, ClsA_loss=0.00216, ClsB_loss=0.623]\n"
          ]
        },
        {
          "output_type": "stream",
          "name": "stdout",
          "text": [
            "\n",
            "Epoch 13 Summary:\n",
            "Generator Loss: 0.4804\n",
            "Discriminator Loss: 0.3125\n",
            "Classifier A - Loss: 0.0006, Acc: 1.0000\n",
            "Classifier B - Loss: 0.1266, Acc: 0.9735\n"
          ]
        },
        {
          "output_type": "stream",
          "name": "stderr",
          "text": [
            "Epoch 14/150: 100%|██████████| 10/10 [01:28<00:00,  8.89s/it, G_loss=0.425, D_loss=0.332, ClsA_loss=0.00129, ClsB_loss=0.365]\n"
          ]
        },
        {
          "output_type": "stream",
          "name": "stdout",
          "text": [
            "\n",
            "Epoch 14 Summary:\n",
            "Generator Loss: 0.4743\n",
            "Discriminator Loss: 0.3197\n",
            "Classifier A - Loss: 0.0007, Acc: 1.0000\n",
            "Classifier B - Loss: 0.0959, Acc: 0.9669\n"
          ]
        },
        {
          "output_type": "stream",
          "name": "stderr",
          "text": [
            "Epoch 15/150: 100%|██████████| 10/10 [01:28<00:00,  8.80s/it, G_loss=0.429, D_loss=0.267, ClsA_loss=0.000905, ClsB_loss=0.043]\n"
          ]
        },
        {
          "output_type": "stream",
          "name": "stdout",
          "text": [
            "\n",
            "Epoch 15 Summary:\n",
            "Generator Loss: 0.4694\n",
            "Discriminator Loss: 0.2812\n",
            "Classifier A - Loss: 0.0004, Acc: 1.0000\n",
            "Classifier B - Loss: 0.0661, Acc: 0.9801\n"
          ]
        },
        {
          "output_type": "stream",
          "name": "stderr",
          "text": [
            "Epoch 16/150: 100%|██████████| 10/10 [01:31<00:00,  9.13s/it, G_loss=0.424, D_loss=0.248, ClsA_loss=0.000339, ClsB_loss=0.00533]\n"
          ]
        },
        {
          "output_type": "stream",
          "name": "stdout",
          "text": [
            "\n",
            "Epoch 16 Summary:\n",
            "Generator Loss: 0.4643\n",
            "Discriminator Loss: 0.2652\n",
            "Classifier A - Loss: 0.0003, Acc: 1.0000\n",
            "Classifier B - Loss: 0.0366, Acc: 0.9934\n"
          ]
        },
        {
          "output_type": "stream",
          "name": "stderr",
          "text": [
            "Epoch 17/150: 100%|██████████| 10/10 [01:31<00:00,  9.13s/it, G_loss=0.559, D_loss=0.266, ClsA_loss=0.00028, ClsB_loss=0.403]\n"
          ]
        },
        {
          "output_type": "stream",
          "name": "stdout",
          "text": [
            "\n",
            "Epoch 17 Summary:\n",
            "Generator Loss: 0.4680\n",
            "Discriminator Loss: 0.2421\n",
            "Classifier A - Loss: 0.0004, Acc: 1.0000\n",
            "Classifier B - Loss: 0.1121, Acc: 0.9735\n"
          ]
        },
        {
          "output_type": "stream",
          "name": "stderr",
          "text": [
            "Epoch 18/150: 100%|██████████| 10/10 [01:31<00:00,  9.16s/it, G_loss=0.435, D_loss=0.228, ClsA_loss=0.000333, ClsB_loss=0.153]\n"
          ]
        },
        {
          "output_type": "stream",
          "name": "stdout",
          "text": [
            "\n",
            "Epoch 18 Summary:\n",
            "Generator Loss: 0.4583\n",
            "Discriminator Loss: 0.2290\n",
            "Classifier A - Loss: 0.0004, Acc: 1.0000\n",
            "Classifier B - Loss: 0.1521, Acc: 0.9272\n"
          ]
        },
        {
          "output_type": "stream",
          "name": "stderr",
          "text": [
            "Epoch 19/150: 100%|██████████| 10/10 [01:31<00:00,  9.11s/it, G_loss=0.445, D_loss=0.2, ClsA_loss=0.00107, ClsB_loss=0.0793]\n"
          ]
        },
        {
          "output_type": "stream",
          "name": "stdout",
          "text": [
            "\n",
            "Epoch 19 Summary:\n",
            "Generator Loss: 0.4555\n",
            "Discriminator Loss: 0.2070\n",
            "Classifier A - Loss: 0.0009, Acc: 1.0000\n",
            "Classifier B - Loss: 0.1667, Acc: 0.9272\n"
          ]
        },
        {
          "output_type": "stream",
          "name": "stderr",
          "text": [
            "Epoch 20/150: 100%|██████████| 10/10 [01:31<00:00,  9.13s/it, G_loss=0.436, D_loss=0.171, ClsA_loss=0.00253, ClsB_loss=0.22]\n"
          ]
        },
        {
          "output_type": "stream",
          "name": "stdout",
          "text": [
            "\n",
            "Epoch 20 Summary:\n",
            "Generator Loss: 0.4522\n",
            "Discriminator Loss: 0.1916\n",
            "Classifier A - Loss: 0.0005, Acc: 1.0000\n",
            "Classifier B - Loss: 0.0937, Acc: 0.9603\n"
          ]
        },
        {
          "output_type": "stream",
          "name": "stderr",
          "text": [
            "Epoch 21/150: 100%|██████████| 10/10 [01:30<00:00,  9.09s/it, G_loss=0.541, D_loss=0.201, ClsA_loss=0.000148, ClsB_loss=0.00537]\n"
          ]
        },
        {
          "output_type": "stream",
          "name": "stdout",
          "text": [
            "\n",
            "Epoch 21 Summary:\n",
            "Generator Loss: 0.4557\n",
            "Discriminator Loss: 0.1827\n",
            "Classifier A - Loss: 0.0006, Acc: 1.0000\n",
            "Classifier B - Loss: 0.0313, Acc: 1.0000\n"
          ]
        },
        {
          "output_type": "stream",
          "name": "stderr",
          "text": [
            "Epoch 22/150: 100%|██████████| 10/10 [01:36<00:00,  9.65s/it, G_loss=0.491, D_loss=0.177, ClsA_loss=3.3e-5, ClsB_loss=0.000912]\n"
          ]
        },
        {
          "output_type": "stream",
          "name": "stdout",
          "text": [
            "\n",
            "Epoch 22 Summary:\n",
            "Generator Loss: 0.4510\n",
            "Discriminator Loss: 0.1746\n",
            "Classifier A - Loss: 0.0006, Acc: 1.0000\n",
            "Classifier B - Loss: 0.0482, Acc: 0.9735\n"
          ]
        },
        {
          "output_type": "stream",
          "name": "stderr",
          "text": [
            "Epoch 23/150: 100%|██████████| 10/10 [01:31<00:00,  9.17s/it, G_loss=0.439, D_loss=0.166, ClsA_loss=0.000828, ClsB_loss=0.0155]\n"
          ]
        },
        {
          "output_type": "stream",
          "name": "stdout",
          "text": [
            "\n",
            "Epoch 23 Summary:\n",
            "Generator Loss: 0.4469\n",
            "Discriminator Loss: 0.1658\n",
            "Classifier A - Loss: 0.0002, Acc: 1.0000\n",
            "Classifier B - Loss: 0.0116, Acc: 0.9934\n"
          ]
        },
        {
          "output_type": "stream",
          "name": "stderr",
          "text": [
            "Epoch 24/150: 100%|██████████| 10/10 [01:32<00:00,  9.25s/it, G_loss=0.422, D_loss=0.139, ClsA_loss=7.18e-5, ClsB_loss=0.00184]\n"
          ]
        },
        {
          "output_type": "stream",
          "name": "stdout",
          "text": [
            "\n",
            "Epoch 24 Summary:\n",
            "Generator Loss: 0.4434\n",
            "Discriminator Loss: 0.1536\n",
            "Classifier A - Loss: 0.0002, Acc: 1.0000\n",
            "Classifier B - Loss: 0.0249, Acc: 0.9934\n"
          ]
        },
        {
          "output_type": "stream",
          "name": "stderr",
          "text": [
            "Epoch 25/150: 100%|██████████| 10/10 [01:31<00:00,  9.17s/it, G_loss=0.554, D_loss=0.183, ClsA_loss=3.1e-5, ClsB_loss=0.00216]\n"
          ]
        },
        {
          "output_type": "stream",
          "name": "stdout",
          "text": [
            "\n",
            "Epoch 25 Summary:\n",
            "Generator Loss: 0.4492\n",
            "Discriminator Loss: 0.1446\n",
            "Classifier A - Loss: 0.0001, Acc: 1.0000\n",
            "Classifier B - Loss: 0.0263, Acc: 0.9934\n"
          ]
        },
        {
          "output_type": "stream",
          "name": "stderr",
          "text": [
            "Epoch 26/150: 100%|██████████| 10/10 [01:32<00:00,  9.21s/it, G_loss=0.423, D_loss=0.12, ClsA_loss=5.48e-5, ClsB_loss=0.00467]\n"
          ]
        },
        {
          "output_type": "stream",
          "name": "stdout",
          "text": [
            "\n",
            "Epoch 26 Summary:\n",
            "Generator Loss: 0.4407\n",
            "Discriminator Loss: 0.1390\n",
            "Classifier A - Loss: 0.0002, Acc: 1.0000\n",
            "Classifier B - Loss: 0.0188, Acc: 0.9934\n"
          ]
        },
        {
          "output_type": "stream",
          "name": "stderr",
          "text": [
            "Epoch 27/150: 100%|██████████| 10/10 [01:32<00:00,  9.28s/it, G_loss=0.43, D_loss=0.123, ClsA_loss=3.12e-5, ClsB_loss=0.0147]\n"
          ]
        },
        {
          "output_type": "stream",
          "name": "stdout",
          "text": [
            "\n",
            "Epoch 27 Summary:\n",
            "Generator Loss: 0.4398\n",
            "Discriminator Loss: 0.1282\n",
            "Classifier A - Loss: 0.0001, Acc: 1.0000\n",
            "Classifier B - Loss: 0.0153, Acc: 0.9934\n"
          ]
        },
        {
          "output_type": "stream",
          "name": "stderr",
          "text": [
            "Epoch 28/150: 100%|██████████| 10/10 [01:36<00:00,  9.68s/it, G_loss=0.306, D_loss=0.166, ClsA_loss=0.00589, ClsB_loss=0.0193]\n"
          ]
        },
        {
          "output_type": "stream",
          "name": "stdout",
          "text": [
            "\n",
            "Epoch 28 Summary:\n",
            "Generator Loss: 0.4317\n",
            "Discriminator Loss: 0.1301\n",
            "Classifier A - Loss: 0.0007, Acc: 1.0000\n",
            "Classifier B - Loss: 0.0055, Acc: 1.0000\n"
          ]
        },
        {
          "output_type": "stream",
          "name": "stderr",
          "text": [
            "Epoch 29/150: 100%|██████████| 10/10 [01:31<00:00,  9.16s/it, G_loss=0.385, D_loss=0.113, ClsA_loss=0.000114, ClsB_loss=0.000517]\n"
          ]
        },
        {
          "output_type": "stream",
          "name": "stdout",
          "text": [
            "\n",
            "Epoch 29 Summary:\n",
            "Generator Loss: 0.4349\n",
            "Discriminator Loss: 0.1178\n",
            "Classifier A - Loss: 0.0001, Acc: 1.0000\n",
            "Classifier B - Loss: 0.0019, Acc: 1.0000\n"
          ]
        },
        {
          "output_type": "stream",
          "name": "stderr",
          "text": [
            "Epoch 30/150: 100%|██████████| 10/10 [01:30<00:00,  9.06s/it, G_loss=0.47, D_loss=0.107, ClsA_loss=2.77e-5, ClsB_loss=0.000431]\n"
          ]
        },
        {
          "output_type": "stream",
          "name": "stdout",
          "text": [
            "\n",
            "Epoch 30 Summary:\n",
            "Generator Loss: 0.4384\n",
            "Discriminator Loss: 0.1109\n",
            "Classifier A - Loss: 0.0002, Acc: 1.0000\n",
            "Classifier B - Loss: 0.0021, Acc: 1.0000\n"
          ]
        },
        {
          "output_type": "stream",
          "name": "stderr",
          "text": [
            "Epoch 31/150: 100%|██████████| 10/10 [01:31<00:00,  9.14s/it, G_loss=0.366, D_loss=0.0969, ClsA_loss=0.0874, ClsB_loss=0.000582]\n"
          ]
        },
        {
          "output_type": "stream",
          "name": "stdout",
          "text": [
            "\n",
            "Epoch 31 Summary:\n",
            "Generator Loss: 0.4320\n",
            "Discriminator Loss: 0.1054\n",
            "Classifier A - Loss: 0.0108, Acc: 1.0000\n",
            "Classifier B - Loss: 0.0950, Acc: 0.9868\n"
          ]
        },
        {
          "output_type": "stream",
          "name": "stderr",
          "text": [
            "Epoch 32/150: 100%|██████████| 10/10 [01:30<00:00,  9.06s/it, G_loss=0.442, D_loss=0.1, ClsA_loss=0.511, ClsB_loss=0.000914]\n"
          ]
        },
        {
          "output_type": "stream",
          "name": "stdout",
          "text": [
            "\n",
            "Epoch 32 Summary:\n",
            "Generator Loss: 0.4355\n",
            "Discriminator Loss: 0.1014\n",
            "Classifier A - Loss: 0.2573, Acc: 0.9272\n",
            "Classifier B - Loss: 0.0071, Acc: 1.0000\n"
          ]
        },
        {
          "output_type": "stream",
          "name": "stderr",
          "text": [
            "Epoch 33/150: 100%|██████████| 10/10 [01:29<00:00,  8.95s/it, G_loss=0.516, D_loss=0.107, ClsA_loss=0.18, ClsB_loss=0.00427]\n"
          ]
        },
        {
          "output_type": "stream",
          "name": "stdout",
          "text": [
            "\n",
            "Epoch 33 Summary:\n",
            "Generator Loss: 0.4387\n",
            "Discriminator Loss: 0.0955\n",
            "Classifier A - Loss: 0.5130, Acc: 0.8411\n",
            "Classifier B - Loss: 0.0079, Acc: 1.0000\n"
          ]
        },
        {
          "output_type": "stream",
          "name": "stderr",
          "text": [
            "Epoch 34/150: 100%|██████████| 10/10 [01:29<00:00,  8.99s/it, G_loss=0.444, D_loss=0.088, ClsA_loss=0.174, ClsB_loss=0.000224]\n"
          ]
        },
        {
          "output_type": "stream",
          "name": "stdout",
          "text": [
            "\n",
            "Epoch 34 Summary:\n",
            "Generator Loss: 0.4338\n",
            "Discriminator Loss: 0.0887\n",
            "Classifier A - Loss: 0.1955, Acc: 0.9073\n",
            "Classifier B - Loss: 0.0040, Acc: 1.0000\n"
          ]
        },
        {
          "output_type": "stream",
          "name": "stderr",
          "text": [
            "Epoch 35/150: 100%|██████████| 10/10 [01:36<00:00,  9.67s/it, G_loss=0.426, D_loss=0.0869, ClsA_loss=0.147, ClsB_loss=0.00149]\n"
          ]
        },
        {
          "output_type": "stream",
          "name": "stdout",
          "text": [
            "\n",
            "Epoch 35 Summary:\n",
            "Generator Loss: 0.4321\n",
            "Discriminator Loss: 0.0912\n",
            "Classifier A - Loss: 0.1568, Acc: 0.9338\n",
            "Classifier B - Loss: 0.0735, Acc: 0.9669\n"
          ]
        },
        {
          "output_type": "stream",
          "name": "stderr",
          "text": [
            "Epoch 36/150: 100%|██████████| 10/10 [01:30<00:00,  9.05s/it, G_loss=0.442, D_loss=0.0711, ClsA_loss=0.188, ClsB_loss=0.071]\n"
          ]
        },
        {
          "output_type": "stream",
          "name": "stdout",
          "text": [
            "\n",
            "Epoch 36 Summary:\n",
            "Generator Loss: 0.4326\n",
            "Discriminator Loss: 0.0815\n",
            "Classifier A - Loss: 0.1035, Acc: 0.9470\n",
            "Classifier B - Loss: 0.1875, Acc: 0.9470\n"
          ]
        },
        {
          "output_type": "stream",
          "name": "stderr",
          "text": [
            "Epoch 37/150: 100%|██████████| 10/10 [01:29<00:00,  8.97s/it, G_loss=0.403, D_loss=0.0713, ClsA_loss=0.00172, ClsB_loss=0.0049]\n"
          ]
        },
        {
          "output_type": "stream",
          "name": "stdout",
          "text": [
            "\n",
            "Epoch 37 Summary:\n",
            "Generator Loss: 0.4294\n",
            "Discriminator Loss: 0.0765\n",
            "Classifier A - Loss: 0.1395, Acc: 0.9603\n",
            "Classifier B - Loss: 0.0827, Acc: 0.9536\n"
          ]
        },
        {
          "output_type": "stream",
          "name": "stderr",
          "text": [
            "Epoch 38/150: 100%|██████████| 10/10 [01:30<00:00,  9.01s/it, G_loss=0.467, D_loss=0.0862, ClsA_loss=0.192, ClsB_loss=0.0959]\n"
          ]
        },
        {
          "output_type": "stream",
          "name": "stdout",
          "text": [
            "\n",
            "Epoch 38 Summary:\n",
            "Generator Loss: 0.4324\n",
            "Discriminator Loss: 0.0735\n",
            "Classifier A - Loss: 0.1150, Acc: 0.9470\n",
            "Classifier B - Loss: 0.0466, Acc: 0.9868\n"
          ]
        },
        {
          "output_type": "stream",
          "name": "stderr",
          "text": [
            "Epoch 39/150: 100%|██████████| 10/10 [01:28<00:00,  8.85s/it, G_loss=0.468, D_loss=0.0852, ClsA_loss=0.0354, ClsB_loss=0.0107]\n"
          ]
        },
        {
          "output_type": "stream",
          "name": "stdout",
          "text": [
            "\n",
            "Epoch 39 Summary:\n",
            "Generator Loss: 0.4319\n",
            "Discriminator Loss: 0.0703\n",
            "Classifier A - Loss: 0.0397, Acc: 0.9801\n",
            "Classifier B - Loss: 0.0227, Acc: 0.9934\n"
          ]
        },
        {
          "output_type": "stream",
          "name": "stderr",
          "text": [
            "Epoch 40/150: 100%|██████████| 10/10 [01:31<00:00,  9.13s/it, G_loss=0.445, D_loss=0.0607, ClsA_loss=0.0697, ClsB_loss=0.0172]\n"
          ]
        },
        {
          "output_type": "stream",
          "name": "stdout",
          "text": [
            "\n",
            "Epoch 40 Summary:\n",
            "Generator Loss: 0.4301\n",
            "Discriminator Loss: 0.0676\n",
            "Classifier A - Loss: 0.0219, Acc: 1.0000\n",
            "Classifier B - Loss: 0.0104, Acc: 1.0000\n"
          ]
        },
        {
          "output_type": "stream",
          "name": "stderr",
          "text": [
            "Epoch 41/150: 100%|██████████| 10/10 [01:31<00:00,  9.13s/it, G_loss=0.333, D_loss=0.0584, ClsA_loss=0.00111, ClsB_loss=0.0022]\n"
          ]
        },
        {
          "output_type": "stream",
          "name": "stdout",
          "text": [
            "\n",
            "Epoch 41 Summary:\n",
            "Generator Loss: 0.4230\n",
            "Discriminator Loss: 0.0661\n",
            "Classifier A - Loss: 0.0048, Acc: 1.0000\n",
            "Classifier B - Loss: 0.0052, Acc: 1.0000\n"
          ]
        },
        {
          "output_type": "stream",
          "name": "stderr",
          "text": [
            "Epoch 42/150: 100%|██████████| 10/10 [01:31<00:00,  9.13s/it, G_loss=0.388, D_loss=0.0615, ClsA_loss=0.00104, ClsB_loss=0.000468]\n"
          ]
        },
        {
          "output_type": "stream",
          "name": "stdout",
          "text": [
            "\n",
            "Epoch 42 Summary:\n",
            "Generator Loss: 0.4259\n",
            "Discriminator Loss: 0.0626\n",
            "Classifier A - Loss: 0.0027, Acc: 1.0000\n",
            "Classifier B - Loss: 0.0018, Acc: 1.0000\n"
          ]
        },
        {
          "output_type": "stream",
          "name": "stderr",
          "text": [
            "Epoch 43/150: 100%|██████████| 10/10 [01:31<00:00,  9.11s/it, G_loss=0.394, D_loss=0.0544, ClsA_loss=0.00137, ClsB_loss=0.00112]\n"
          ]
        },
        {
          "output_type": "stream",
          "name": "stdout",
          "text": [
            "\n",
            "Epoch 43 Summary:\n",
            "Generator Loss: 0.4256\n",
            "Discriminator Loss: 0.0607\n",
            "Classifier A - Loss: 0.0012, Acc: 1.0000\n",
            "Classifier B - Loss: 0.0018, Acc: 1.0000\n"
          ]
        },
        {
          "output_type": "stream",
          "name": "stderr",
          "text": [
            "Epoch 44/150: 100%|██████████| 10/10 [01:32<00:00,  9.26s/it, G_loss=0.372, D_loss=0.0566, ClsA_loss=0.00723, ClsB_loss=0.00271]\n"
          ]
        },
        {
          "output_type": "stream",
          "name": "stdout",
          "text": [
            "\n",
            "Epoch 44 Summary:\n",
            "Generator Loss: 0.4240\n",
            "Discriminator Loss: 0.0598\n",
            "Classifier A - Loss: 0.0014, Acc: 1.0000\n",
            "Classifier B - Loss: 0.0010, Acc: 1.0000\n"
          ]
        },
        {
          "output_type": "stream",
          "name": "stderr",
          "text": [
            "Epoch 45/150: 100%|██████████| 10/10 [01:31<00:00,  9.20s/it, G_loss=0.414, D_loss=0.0509, ClsA_loss=0.000874, ClsB_loss=0.00187]\n"
          ]
        },
        {
          "output_type": "stream",
          "name": "stdout",
          "text": [
            "\n",
            "Epoch 45 Summary:\n",
            "Generator Loss: 0.4258\n",
            "Discriminator Loss: 0.0575\n",
            "Classifier A - Loss: 0.0022, Acc: 1.0000\n",
            "Classifier B - Loss: 0.0018, Acc: 1.0000\n"
          ]
        },
        {
          "output_type": "stream",
          "name": "stderr",
          "text": [
            "Epoch 46/150: 100%|██████████| 10/10 [01:31<00:00,  9.18s/it, G_loss=0.437, D_loss=0.0506, ClsA_loss=0.000213, ClsB_loss=0.00086]\n"
          ]
        },
        {
          "output_type": "stream",
          "name": "stdout",
          "text": [
            "\n",
            "Epoch 46 Summary:\n",
            "Generator Loss: 0.4269\n",
            "Discriminator Loss: 0.0549\n",
            "Classifier A - Loss: 0.0006, Acc: 1.0000\n",
            "Classifier B - Loss: 0.0009, Acc: 1.0000\n"
          ]
        },
        {
          "output_type": "stream",
          "name": "stderr",
          "text": [
            "Epoch 47/150: 100%|██████████| 10/10 [01:30<00:00,  9.08s/it, G_loss=0.393, D_loss=0.0489, ClsA_loss=6.86e-5, ClsB_loss=0.000179]\n"
          ]
        },
        {
          "output_type": "stream",
          "name": "stdout",
          "text": [
            "\n",
            "Epoch 47 Summary:\n",
            "Generator Loss: 0.4241\n",
            "Discriminator Loss: 0.0511\n",
            "Classifier A - Loss: 0.0004, Acc: 1.0000\n",
            "Classifier B - Loss: 0.0007, Acc: 1.0000\n"
          ]
        },
        {
          "output_type": "stream",
          "name": "stderr",
          "text": [
            "Epoch 48/150: 100%|██████████| 10/10 [01:31<00:00,  9.10s/it, G_loss=0.445, D_loss=0.0509, ClsA_loss=0.000736, ClsB_loss=0.00127]\n"
          ]
        },
        {
          "output_type": "stream",
          "name": "stdout",
          "text": [
            "\n",
            "Epoch 48 Summary:\n",
            "Generator Loss: 0.4267\n",
            "Discriminator Loss: 0.0482\n",
            "Classifier A - Loss: 0.0008, Acc: 1.0000\n",
            "Classifier B - Loss: 0.0009, Acc: 1.0000\n"
          ]
        },
        {
          "output_type": "stream",
          "name": "stderr",
          "text": [
            "Epoch 49/150: 100%|██████████| 10/10 [01:31<00:00,  9.13s/it, G_loss=0.434, D_loss=0.0459, ClsA_loss=0.00122, ClsB_loss=0.00612]\n"
          ]
        },
        {
          "output_type": "stream",
          "name": "stdout",
          "text": [
            "\n",
            "Epoch 49 Summary:\n",
            "Generator Loss: 0.4257\n",
            "Discriminator Loss: 0.0458\n",
            "Classifier A - Loss: 0.0007, Acc: 1.0000\n",
            "Classifier B - Loss: 0.0017, Acc: 1.0000\n"
          ]
        },
        {
          "output_type": "stream",
          "name": "stderr",
          "text": [
            "Epoch 50/150: 100%|██████████| 10/10 [01:29<00:00,  8.99s/it, G_loss=0.379, D_loss=0.0406, ClsA_loss=0.000117, ClsB_loss=0.000343]\n"
          ]
        },
        {
          "output_type": "stream",
          "name": "stdout",
          "text": [
            "\n",
            "Epoch 50 Summary:\n",
            "Generator Loss: 0.4223\n",
            "Discriminator Loss: 0.0440\n",
            "Classifier A - Loss: 0.0003, Acc: 1.0000\n",
            "Classifier B - Loss: 0.0005, Acc: 1.0000\n"
          ]
        },
        {
          "output_type": "stream",
          "name": "stderr",
          "text": [
            "Epoch 51/150: 100%|██████████| 10/10 [01:32<00:00,  9.21s/it, G_loss=0.435, D_loss=0.0414, ClsA_loss=0.00114, ClsB_loss=0.00227]\n"
          ]
        },
        {
          "output_type": "stream",
          "name": "stdout",
          "text": [
            "\n",
            "Epoch 51 Summary:\n",
            "Generator Loss: 0.4253\n",
            "Discriminator Loss: 0.0423\n",
            "Classifier A - Loss: 0.0005, Acc: 1.0000\n",
            "Classifier B - Loss: 0.0009, Acc: 1.0000\n"
          ]
        },
        {
          "output_type": "stream",
          "name": "stderr",
          "text": [
            "Epoch 52/150: 100%|██████████| 10/10 [01:36<00:00,  9.68s/it, G_loss=0.395, D_loss=0.0364, ClsA_loss=0.000123, ClsB_loss=0.000312]\n"
          ]
        },
        {
          "output_type": "stream",
          "name": "stdout",
          "text": [
            "\n",
            "Epoch 52 Summary:\n",
            "Generator Loss: 0.4228\n",
            "Discriminator Loss: 0.0413\n",
            "Classifier A - Loss: 0.0002, Acc: 1.0000\n",
            "Classifier B - Loss: 0.0004, Acc: 1.0000\n"
          ]
        },
        {
          "output_type": "stream",
          "name": "stderr",
          "text": [
            "Epoch 53/150: 100%|██████████| 10/10 [01:32<00:00,  9.25s/it, G_loss=0.487, D_loss=0.0498, ClsA_loss=6.53e-5, ClsB_loss=0.000145]\n"
          ]
        },
        {
          "output_type": "stream",
          "name": "stdout",
          "text": [
            "\n",
            "Epoch 53 Summary:\n",
            "Generator Loss: 0.4277\n",
            "Discriminator Loss: 0.0409\n",
            "Classifier A - Loss: 0.0009, Acc: 1.0000\n",
            "Classifier B - Loss: 0.0015, Acc: 1.0000\n"
          ]
        },
        {
          "output_type": "stream",
          "name": "stderr",
          "text": [
            "Epoch 54/150: 100%|██████████| 10/10 [01:32<00:00,  9.25s/it, G_loss=0.49, D_loss=0.0484, ClsA_loss=0.0104, ClsB_loss=0.0182]\n"
          ]
        },
        {
          "output_type": "stream",
          "name": "stdout",
          "text": [
            "\n",
            "Epoch 54 Summary:\n",
            "Generator Loss: 0.4278\n",
            "Discriminator Loss: 0.0392\n",
            "Classifier A - Loss: 0.0015, Acc: 1.0000\n",
            "Classifier B - Loss: 0.0026, Acc: 1.0000\n"
          ]
        },
        {
          "output_type": "stream",
          "name": "stderr",
          "text": [
            "Epoch 55/150: 100%|██████████| 10/10 [01:32<00:00,  9.23s/it, G_loss=0.408, D_loss=0.0382, ClsA_loss=0.000513, ClsB_loss=0.00397]\n"
          ]
        },
        {
          "output_type": "stream",
          "name": "stdout",
          "text": [
            "\n",
            "Epoch 55 Summary:\n",
            "Generator Loss: 0.4228\n",
            "Discriminator Loss: 0.0372\n",
            "Classifier A - Loss: 0.0003, Acc: 1.0000\n",
            "Classifier B - Loss: 0.0011, Acc: 1.0000\n"
          ]
        },
        {
          "output_type": "stream",
          "name": "stderr",
          "text": [
            "Epoch 56/150: 100%|██████████| 10/10 [01:32<00:00,  9.25s/it, G_loss=0.38, D_loss=0.0317, ClsA_loss=0.000799, ClsB_loss=0.000726]\n"
          ]
        },
        {
          "output_type": "stream",
          "name": "stdout",
          "text": [
            "\n",
            "Epoch 56 Summary:\n",
            "Generator Loss: 0.4210\n",
            "Discriminator Loss: 0.0354\n",
            "Classifier A - Loss: 0.0003, Acc: 1.0000\n",
            "Classifier B - Loss: 0.0004, Acc: 1.0000\n"
          ]
        },
        {
          "output_type": "stream",
          "name": "stderr",
          "text": [
            "Epoch 57/150: 100%|██████████| 10/10 [01:31<00:00,  9.19s/it, G_loss=0.317, D_loss=0.0425, ClsA_loss=0.000462, ClsB_loss=0.000971]\n"
          ]
        },
        {
          "output_type": "stream",
          "name": "stdout",
          "text": [
            "\n",
            "Epoch 57 Summary:\n",
            "Generator Loss: 0.4174\n",
            "Discriminator Loss: 0.0347\n",
            "Classifier A - Loss: 0.0002, Acc: 1.0000\n",
            "Classifier B - Loss: 0.0004, Acc: 1.0000\n"
          ]
        },
        {
          "output_type": "stream",
          "name": "stderr",
          "text": [
            "Epoch 58/150: 100%|██████████| 10/10 [01:38<00:00,  9.83s/it, G_loss=0.389, D_loss=0.0315, ClsA_loss=0.000493, ClsB_loss=0.000974]\n"
          ]
        },
        {
          "output_type": "stream",
          "name": "stdout",
          "text": [
            "\n",
            "Epoch 58 Summary:\n",
            "Generator Loss: 0.4211\n",
            "Discriminator Loss: 0.0343\n",
            "Classifier A - Loss: 0.0002, Acc: 1.0000\n",
            "Classifier B - Loss: 0.0004, Acc: 1.0000\n"
          ]
        },
        {
          "output_type": "stream",
          "name": "stderr",
          "text": [
            "Epoch 59/150: 100%|██████████| 10/10 [01:32<00:00,  9.22s/it, G_loss=0.378, D_loss=0.0303, ClsA_loss=7.04e-5, ClsB_loss=8.66e-5]\n"
          ]
        },
        {
          "output_type": "stream",
          "name": "stdout",
          "text": [
            "\n",
            "Epoch 59 Summary:\n",
            "Generator Loss: 0.4201\n",
            "Discriminator Loss: 0.0334\n",
            "Classifier A - Loss: 0.0001, Acc: 1.0000\n",
            "Classifier B - Loss: 0.0003, Acc: 1.0000\n"
          ]
        },
        {
          "output_type": "stream",
          "name": "stderr",
          "text": [
            "Epoch 60/150: 100%|██████████| 10/10 [01:32<00:00,  9.22s/it, G_loss=0.379, D_loss=0.0298, ClsA_loss=2.06, ClsB_loss=0.419]\n"
          ]
        },
        {
          "output_type": "stream",
          "name": "stdout",
          "text": [
            "\n",
            "Epoch 60 Summary:\n",
            "Generator Loss: 0.4199\n",
            "Discriminator Loss: 0.0317\n",
            "Classifier A - Loss: 0.2063, Acc: 0.9868\n",
            "Classifier B - Loss: 0.0424, Acc: 0.9868\n"
          ]
        },
        {
          "output_type": "stream",
          "name": "stderr",
          "text": [
            "Epoch 61/150: 100%|██████████| 10/10 [01:33<00:00,  9.36s/it, G_loss=0.384, D_loss=0.0361, ClsA_loss=0.295, ClsB_loss=0.0275]\n"
          ]
        },
        {
          "output_type": "stream",
          "name": "stdout",
          "text": [
            "\n",
            "Epoch 61 Summary:\n",
            "Generator Loss: 0.4200\n",
            "Discriminator Loss: 0.0313\n",
            "Classifier A - Loss: 0.4858, Acc: 0.8808\n",
            "Classifier B - Loss: 0.1559, Acc: 0.9205\n"
          ]
        },
        {
          "output_type": "stream",
          "name": "stderr",
          "text": [
            "Epoch 62/150: 100%|██████████| 10/10 [01:32<00:00,  9.26s/it, G_loss=0.473, D_loss=0.0293, ClsA_loss=0.141, ClsB_loss=0.0256]\n"
          ]
        },
        {
          "output_type": "stream",
          "name": "stdout",
          "text": [
            "\n",
            "Epoch 62 Summary:\n",
            "Generator Loss: 0.4249\n",
            "Discriminator Loss: 0.0300\n",
            "Classifier A - Loss: 0.3446, Acc: 0.8146\n",
            "Classifier B - Loss: 0.1966, Acc: 0.9139\n"
          ]
        },
        {
          "output_type": "stream",
          "name": "stderr",
          "text": [
            "Epoch 63/150: 100%|██████████| 10/10 [01:32<00:00,  9.27s/it, G_loss=0.471, D_loss=0.0374, ClsA_loss=0.0983, ClsB_loss=0.00403]\n"
          ]
        },
        {
          "output_type": "stream",
          "name": "stdout",
          "text": [
            "\n",
            "Epoch 63 Summary:\n",
            "Generator Loss: 0.4247\n",
            "Discriminator Loss: 0.0295\n",
            "Classifier A - Loss: 0.2381, Acc: 0.9007\n",
            "Classifier B - Loss: 0.0731, Acc: 0.9801\n"
          ]
        },
        {
          "output_type": "stream",
          "name": "stderr",
          "text": [
            "Epoch 64/150: 100%|██████████| 10/10 [01:32<00:00,  9.28s/it, G_loss=0.59, D_loss=0.0641, ClsA_loss=1.35, ClsB_loss=0.513]\n"
          ]
        },
        {
          "output_type": "stream",
          "name": "stdout",
          "text": [
            "\n",
            "Epoch 64 Summary:\n",
            "Generator Loss: 0.4313\n",
            "Discriminator Loss: 0.0312\n",
            "Classifier A - Loss: 0.3519, Acc: 0.9073\n",
            "Classifier B - Loss: 0.0879, Acc: 0.9735\n"
          ]
        },
        {
          "output_type": "stream",
          "name": "stderr",
          "text": [
            "Epoch 65/150: 100%|██████████| 10/10 [01:33<00:00,  9.32s/it, G_loss=0.393, D_loss=0.0256, ClsA_loss=0.146, ClsB_loss=0.399]\n"
          ]
        },
        {
          "output_type": "stream",
          "name": "stdout",
          "text": [
            "\n",
            "Epoch 65 Summary:\n",
            "Generator Loss: 0.4202\n",
            "Discriminator Loss: 0.0285\n",
            "Classifier A - Loss: 0.2076, Acc: 0.8940\n",
            "Classifier B - Loss: 0.3670, Acc: 0.9205\n"
          ]
        },
        {
          "output_type": "stream",
          "name": "stderr",
          "text": [
            "Epoch 66/150: 100%|██████████| 10/10 [01:33<00:00,  9.31s/it, G_loss=0.341, D_loss=0.0254, ClsA_loss=0.0747, ClsB_loss=0.317]\n"
          ]
        },
        {
          "output_type": "stream",
          "name": "stdout",
          "text": [
            "\n",
            "Epoch 66 Summary:\n",
            "Generator Loss: 0.4171\n",
            "Discriminator Loss: 0.0270\n",
            "Classifier A - Loss: 0.0880, Acc: 0.9868\n",
            "Classifier B - Loss: 0.1999, Acc: 0.9338\n"
          ]
        },
        {
          "output_type": "stream",
          "name": "stderr",
          "text": [
            "Epoch 67/150: 100%|██████████| 10/10 [01:32<00:00,  9.29s/it, G_loss=0.338, D_loss=0.0291, ClsA_loss=0.00814, ClsB_loss=0.212]\n"
          ]
        },
        {
          "output_type": "stream",
          "name": "stdout",
          "text": [
            "\n",
            "Epoch 67 Summary:\n",
            "Generator Loss: 0.4165\n",
            "Discriminator Loss: 0.0295\n",
            "Classifier A - Loss: 0.0743, Acc: 0.9735\n",
            "Classifier B - Loss: 0.1482, Acc: 0.9338\n"
          ]
        },
        {
          "output_type": "stream",
          "name": "stderr",
          "text": [
            "Epoch 68/150: 100%|██████████| 10/10 [01:33<00:00,  9.30s/it, G_loss=0.415, D_loss=0.0219, ClsA_loss=0.436, ClsB_loss=1.86]\n"
          ]
        },
        {
          "output_type": "stream",
          "name": "stdout",
          "text": [
            "\n",
            "Epoch 68 Summary:\n",
            "Generator Loss: 0.4207\n",
            "Discriminator Loss: 0.0276\n",
            "Classifier A - Loss: 0.1201, Acc: 0.9735\n",
            "Classifier B - Loss: 0.2689, Acc: 0.9603\n"
          ]
        },
        {
          "output_type": "stream",
          "name": "stderr",
          "text": [
            "Epoch 69/150: 100%|██████████| 10/10 [01:32<00:00,  9.28s/it, G_loss=0.438, D_loss=0.0305, ClsA_loss=0.01, ClsB_loss=1.9]\n"
          ]
        },
        {
          "output_type": "stream",
          "name": "stdout",
          "text": [
            "\n",
            "Epoch 69 Summary:\n",
            "Generator Loss: 0.4219\n",
            "Discriminator Loss: 0.0257\n",
            "Classifier A - Loss: 0.0439, Acc: 0.9868\n",
            "Classifier B - Loss: 0.3671, Acc: 0.9205\n"
          ]
        },
        {
          "output_type": "stream",
          "name": "stderr",
          "text": [
            "Epoch 70/150: 100%|██████████| 10/10 [01:33<00:00,  9.36s/it, G_loss=0.423, D_loss=0.0206, ClsA_loss=0.0968, ClsB_loss=0.193]\n"
          ]
        },
        {
          "output_type": "stream",
          "name": "stdout",
          "text": [
            "\n",
            "Epoch 70 Summary:\n",
            "Generator Loss: 0.4210\n",
            "Discriminator Loss: 0.0249\n",
            "Classifier A - Loss: 0.0419, Acc: 1.0000\n",
            "Classifier B - Loss: 0.4061, Acc: 0.8808\n"
          ]
        },
        {
          "output_type": "stream",
          "name": "stderr",
          "text": [
            "Epoch 71/150: 100%|██████████| 10/10 [01:32<00:00,  9.28s/it, G_loss=0.393, D_loss=0.0201, ClsA_loss=0.0147, ClsB_loss=0.153]\n"
          ]
        },
        {
          "output_type": "stream",
          "name": "stdout",
          "text": [
            "\n",
            "Epoch 71 Summary:\n",
            "Generator Loss: 0.4191\n",
            "Discriminator Loss: 0.0224\n",
            "Classifier A - Loss: 0.0343, Acc: 0.9868\n",
            "Classifier B - Loss: 0.1192, Acc: 0.9470\n"
          ]
        },
        {
          "output_type": "stream",
          "name": "stderr",
          "text": [
            "Epoch 72/150: 100%|██████████| 10/10 [01:42<00:00, 10.23s/it, G_loss=0.437, D_loss=0.0212, ClsA_loss=0.0532, ClsB_loss=0.106]\n"
          ]
        },
        {
          "output_type": "stream",
          "name": "stdout",
          "text": [
            "\n",
            "Epoch 72 Summary:\n",
            "Generator Loss: 0.4215\n",
            "Discriminator Loss: 0.0223\n",
            "Classifier A - Loss: 0.0586, Acc: 0.9735\n",
            "Classifier B - Loss: 0.0697, Acc: 0.9735\n"
          ]
        },
        {
          "output_type": "stream",
          "name": "stderr",
          "text": [
            "Epoch 73/150: 100%|██████████| 10/10 [01:33<00:00,  9.31s/it, G_loss=0.496, D_loss=0.0309, ClsA_loss=0.0466, ClsB_loss=0.0678]\n"
          ]
        },
        {
          "output_type": "stream",
          "name": "stdout",
          "text": [
            "\n",
            "Epoch 73 Summary:\n",
            "Generator Loss: 0.4249\n",
            "Discriminator Loss: 0.0223\n",
            "Classifier A - Loss: 0.0278, Acc: 0.9934\n",
            "Classifier B - Loss: 0.0405, Acc: 0.9934\n"
          ]
        },
        {
          "output_type": "stream",
          "name": "stderr",
          "text": [
            "Epoch 74/150: 100%|██████████| 10/10 [01:33<00:00,  9.37s/it, G_loss=0.494, D_loss=0.0366, ClsA_loss=0.0197, ClsB_loss=0.00803]\n"
          ]
        },
        {
          "output_type": "stream",
          "name": "stdout",
          "text": [
            "\n",
            "Epoch 74 Summary:\n",
            "Generator Loss: 0.4254\n",
            "Discriminator Loss: 0.0222\n",
            "Classifier A - Loss: 0.0452, Acc: 0.9868\n",
            "Classifier B - Loss: 0.0471, Acc: 0.9868\n"
          ]
        },
        {
          "output_type": "stream",
          "name": "stderr",
          "text": [
            "Epoch 75/150: 100%|██████████| 10/10 [01:33<00:00,  9.35s/it, G_loss=0.399, D_loss=0.0201, ClsA_loss=0.00303, ClsB_loss=0.0051]\n"
          ]
        },
        {
          "output_type": "stream",
          "name": "stdout",
          "text": [
            "\n",
            "Epoch 75 Summary:\n",
            "Generator Loss: 0.4192\n",
            "Discriminator Loss: 0.0209\n",
            "Classifier A - Loss: 0.0042, Acc: 1.0000\n",
            "Classifier B - Loss: 0.0073, Acc: 1.0000\n"
          ]
        },
        {
          "output_type": "stream",
          "name": "stderr",
          "text": [
            "Epoch 76/150: 100%|██████████| 10/10 [01:34<00:00,  9.43s/it, G_loss=0.518, D_loss=0.0315, ClsA_loss=0.000298, ClsB_loss=0.00338]\n"
          ]
        },
        {
          "output_type": "stream",
          "name": "stdout",
          "text": [
            "\n",
            "Epoch 76 Summary:\n",
            "Generator Loss: 0.4257\n",
            "Discriminator Loss: 0.0211\n",
            "Classifier A - Loss: 0.0068, Acc: 1.0000\n",
            "Classifier B - Loss: 0.0202, Acc: 0.9934\n"
          ]
        },
        {
          "output_type": "stream",
          "name": "stderr",
          "text": [
            "Epoch 77/150: 100%|██████████| 10/10 [01:33<00:00,  9.35s/it, G_loss=0.422, D_loss=0.0207, ClsA_loss=0.0107, ClsB_loss=0.00667]\n"
          ]
        },
        {
          "output_type": "stream",
          "name": "stdout",
          "text": [
            "\n",
            "Epoch 77 Summary:\n",
            "Generator Loss: 0.4202\n",
            "Discriminator Loss: 0.0194\n",
            "Classifier A - Loss: 0.0048, Acc: 1.0000\n",
            "Classifier B - Loss: 0.0042, Acc: 1.0000\n"
          ]
        },
        {
          "output_type": "stream",
          "name": "stderr",
          "text": [
            "Epoch 78/150: 100%|██████████| 10/10 [01:41<00:00, 10.12s/it, G_loss=0.449, D_loss=0.0238, ClsA_loss=0.000322, ClsB_loss=0.000774]\n"
          ]
        },
        {
          "output_type": "stream",
          "name": "stdout",
          "text": [
            "\n",
            "Epoch 78 Summary:\n",
            "Generator Loss: 0.4216\n",
            "Discriminator Loss: 0.0192\n",
            "Classifier A - Loss: 0.0019, Acc: 1.0000\n",
            "Classifier B - Loss: 0.0019, Acc: 1.0000\n"
          ]
        },
        {
          "output_type": "stream",
          "name": "stderr",
          "text": [
            "Epoch 79/150: 100%|██████████| 10/10 [01:33<00:00,  9.36s/it, G_loss=0.418, D_loss=0.0163, ClsA_loss=0.00128, ClsB_loss=0.00162]\n"
          ]
        },
        {
          "output_type": "stream",
          "name": "stdout",
          "text": [
            "\n",
            "Epoch 79 Summary:\n",
            "Generator Loss: 0.4197\n",
            "Discriminator Loss: 0.0189\n",
            "Classifier A - Loss: 0.0020, Acc: 1.0000\n",
            "Classifier B - Loss: 0.0019, Acc: 1.0000\n"
          ]
        },
        {
          "output_type": "stream",
          "name": "stderr",
          "text": [
            "Epoch 80/150: 100%|██████████| 10/10 [01:33<00:00,  9.40s/it, G_loss=0.419, D_loss=0.0166, ClsA_loss=0.000245, ClsB_loss=0.00164]\n"
          ]
        },
        {
          "output_type": "stream",
          "name": "stdout",
          "text": [
            "\n",
            "Epoch 80 Summary:\n",
            "Generator Loss: 0.4198\n",
            "Discriminator Loss: 0.0182\n",
            "Classifier A - Loss: 0.0024, Acc: 1.0000\n",
            "Classifier B - Loss: 0.0195, Acc: 0.9868\n"
          ]
        },
        {
          "output_type": "stream",
          "name": "stderr",
          "text": [
            "Epoch 81/150: 100%|██████████| 10/10 [01:34<00:00,  9.44s/it, G_loss=0.411, D_loss=0.018, ClsA_loss=0.000232, ClsB_loss=0.00585]\n"
          ]
        },
        {
          "output_type": "stream",
          "name": "stdout",
          "text": [
            "\n",
            "Epoch 81 Summary:\n",
            "Generator Loss: 0.4194\n",
            "Discriminator Loss: 0.0184\n",
            "Classifier A - Loss: 0.0007, Acc: 1.0000\n",
            "Classifier B - Loss: 0.0039, Acc: 1.0000\n"
          ]
        },
        {
          "output_type": "stream",
          "name": "stderr",
          "text": [
            "Epoch 82/150: 100%|██████████| 10/10 [01:35<00:00,  9.51s/it, G_loss=0.527, D_loss=0.0263, ClsA_loss=7.76e-5, ClsB_loss=0.000394]\n"
          ]
        },
        {
          "output_type": "stream",
          "name": "stdout",
          "text": [
            "\n",
            "Epoch 82 Summary:\n",
            "Generator Loss: 0.4258\n",
            "Discriminator Loss: 0.0181\n",
            "Classifier A - Loss: 0.0006, Acc: 1.0000\n",
            "Classifier B - Loss: 0.0119, Acc: 0.9934\n"
          ]
        },
        {
          "output_type": "stream",
          "name": "stderr",
          "text": [
            "Epoch 83/150: 100%|██████████| 10/10 [01:34<00:00,  9.49s/it, G_loss=0.382, D_loss=0.0202, ClsA_loss=0.000103, ClsB_loss=0.000144]\n"
          ]
        },
        {
          "output_type": "stream",
          "name": "stdout",
          "text": [
            "\n",
            "Epoch 83 Summary:\n",
            "Generator Loss: 0.4175\n",
            "Discriminator Loss: 0.0174\n",
            "Classifier A - Loss: 0.0006, Acc: 1.0000\n",
            "Classifier B - Loss: 0.0167, Acc: 0.9934\n"
          ]
        },
        {
          "output_type": "stream",
          "name": "stderr",
          "text": [
            "Epoch 84/150: 100%|██████████| 10/10 [01:39<00:00,  9.94s/it, G_loss=0.417, D_loss=0.0196, ClsA_loss=0.000726, ClsB_loss=0.037]\n"
          ]
        },
        {
          "output_type": "stream",
          "name": "stdout",
          "text": [
            "\n",
            "Epoch 84 Summary:\n",
            "Generator Loss: 0.4195\n",
            "Discriminator Loss: 0.0171\n",
            "Classifier A - Loss: 0.0004, Acc: 1.0000\n",
            "Classifier B - Loss: 0.0093, Acc: 1.0000\n"
          ]
        },
        {
          "output_type": "stream",
          "name": "stderr",
          "text": [
            "Epoch 85/150: 100%|██████████| 10/10 [01:34<00:00,  9.47s/it, G_loss=0.423, D_loss=0.0134, ClsA_loss=0.00127, ClsB_loss=0.00202]\n"
          ]
        },
        {
          "output_type": "stream",
          "name": "stdout",
          "text": [
            "\n",
            "Epoch 85 Summary:\n",
            "Generator Loss: 0.4196\n",
            "Discriminator Loss: 0.0157\n",
            "Classifier A - Loss: 0.0005, Acc: 1.0000\n",
            "Classifier B - Loss: 0.0083, Acc: 1.0000\n"
          ]
        },
        {
          "output_type": "stream",
          "name": "stderr",
          "text": [
            "Epoch 86/150: 100%|██████████| 10/10 [01:34<00:00,  9.41s/it, G_loss=0.377, D_loss=0.0144, ClsA_loss=0.00019, ClsB_loss=0.0223]\n"
          ]
        },
        {
          "output_type": "stream",
          "name": "stdout",
          "text": [
            "\n",
            "Epoch 86 Summary:\n",
            "Generator Loss: 0.4171\n",
            "Discriminator Loss: 0.0157\n",
            "Classifier A - Loss: 0.0007, Acc: 1.0000\n",
            "Classifier B - Loss: 0.0078, Acc: 1.0000\n"
          ]
        },
        {
          "output_type": "stream",
          "name": "stderr",
          "text": [
            "Epoch 87/150: 100%|██████████| 10/10 [01:33<00:00,  9.39s/it, G_loss=0.537, D_loss=0.0274, ClsA_loss=0.000553, ClsB_loss=5.53e-5]\n"
          ]
        },
        {
          "output_type": "stream",
          "name": "stdout",
          "text": [
            "\n",
            "Epoch 87 Summary:\n",
            "Generator Loss: 0.4259\n",
            "Discriminator Loss: 0.0172\n",
            "Classifier A - Loss: 0.0006, Acc: 1.0000\n",
            "Classifier B - Loss: 0.0025, Acc: 1.0000\n"
          ]
        },
        {
          "output_type": "stream",
          "name": "stderr",
          "text": [
            "Epoch 88/150: 100%|██████████| 10/10 [01:33<00:00,  9.39s/it, G_loss=0.321, D_loss=0.0162, ClsA_loss=0.0182, ClsB_loss=0.00112]\n"
          ]
        },
        {
          "output_type": "stream",
          "name": "stdout",
          "text": [
            "\n",
            "Epoch 88 Summary:\n",
            "Generator Loss: 0.4136\n",
            "Discriminator Loss: 0.0150\n",
            "Classifier A - Loss: 0.0022, Acc: 1.0000\n",
            "Classifier B - Loss: 0.0015, Acc: 1.0000\n"
          ]
        },
        {
          "output_type": "stream",
          "name": "stderr",
          "text": [
            "Epoch 89/150: 100%|██████████| 10/10 [01:31<00:00,  9.19s/it, G_loss=0.396, D_loss=0.0164, ClsA_loss=8.38e-5, ClsB_loss=9.6e-5]\n"
          ]
        },
        {
          "output_type": "stream",
          "name": "stdout",
          "text": [
            "\n",
            "Epoch 89 Summary:\n",
            "Generator Loss: 0.4177\n",
            "Discriminator Loss: 0.0149\n",
            "Classifier A - Loss: 0.0006, Acc: 1.0000\n",
            "Classifier B - Loss: 0.0011, Acc: 1.0000\n"
          ]
        },
        {
          "output_type": "stream",
          "name": "stderr",
          "text": [
            "Epoch 90/150: 100%|██████████| 10/10 [01:32<00:00,  9.20s/it, G_loss=0.438, D_loss=0.0124, ClsA_loss=0.000114, ClsB_loss=0.000101]\n"
          ]
        },
        {
          "output_type": "stream",
          "name": "stdout",
          "text": [
            "\n",
            "Epoch 90 Summary:\n",
            "Generator Loss: 0.4202\n",
            "Discriminator Loss: 0.0143\n",
            "Classifier A - Loss: 0.0243, Acc: 0.9868\n",
            "Classifier B - Loss: 0.0003, Acc: 1.0000\n"
          ]
        },
        {
          "output_type": "stream",
          "name": "stderr",
          "text": [
            "Epoch 91/150: 100%|██████████| 10/10 [01:32<00:00,  9.24s/it, G_loss=0.445, D_loss=0.0146, ClsA_loss=0.00517, ClsB_loss=0.00216]\n"
          ]
        },
        {
          "output_type": "stream",
          "name": "stdout",
          "text": [
            "\n",
            "Epoch 91 Summary:\n",
            "Generator Loss: 0.4203\n",
            "Discriminator Loss: 0.0144\n",
            "Classifier A - Loss: 0.0036, Acc: 1.0000\n",
            "Classifier B - Loss: 0.0006, Acc: 1.0000\n"
          ]
        },
        {
          "output_type": "stream",
          "name": "stderr",
          "text": [
            "Epoch 92/150: 100%|██████████| 10/10 [01:32<00:00,  9.26s/it, G_loss=0.375, D_loss=0.0126, ClsA_loss=0.00458, ClsB_loss=0.000386]\n"
          ]
        },
        {
          "output_type": "stream",
          "name": "stdout",
          "text": [
            "\n",
            "Epoch 92 Summary:\n",
            "Generator Loss: 0.4164\n",
            "Discriminator Loss: 0.0137\n",
            "Classifier A - Loss: 0.0076, Acc: 1.0000\n",
            "Classifier B - Loss: 0.0081, Acc: 1.0000\n"
          ]
        },
        {
          "output_type": "stream",
          "name": "stderr",
          "text": [
            "Epoch 93/150: 100%|██████████| 10/10 [01:32<00:00,  9.25s/it, G_loss=0.359, D_loss=0.0118, ClsA_loss=0.00154, ClsB_loss=0.00215]\n"
          ]
        },
        {
          "output_type": "stream",
          "name": "stdout",
          "text": [
            "\n",
            "Epoch 93 Summary:\n",
            "Generator Loss: 0.4154\n",
            "Discriminator Loss: 0.0139\n",
            "Classifier A - Loss: 0.0068, Acc: 1.0000\n",
            "Classifier B - Loss: 0.0012, Acc: 1.0000\n"
          ]
        },
        {
          "output_type": "stream",
          "name": "stderr",
          "text": [
            "Epoch 94/150: 100%|██████████| 10/10 [01:32<00:00,  9.21s/it, G_loss=0.421, D_loss=0.0117, ClsA_loss=0.00359, ClsB_loss=0.00965]\n"
          ]
        },
        {
          "output_type": "stream",
          "name": "stdout",
          "text": [
            "\n",
            "Epoch 94 Summary:\n",
            "Generator Loss: 0.4189\n",
            "Discriminator Loss: 0.0132\n",
            "Classifier A - Loss: 0.0046, Acc: 1.0000\n",
            "Classifier B - Loss: 0.0079, Acc: 1.0000\n"
          ]
        },
        {
          "output_type": "stream",
          "name": "stderr",
          "text": [
            "Epoch 95/150: 100%|██████████| 10/10 [01:31<00:00,  9.17s/it, G_loss=0.408, D_loss=0.0119, ClsA_loss=0.1, ClsB_loss=0.0014]\n"
          ]
        },
        {
          "output_type": "stream",
          "name": "stdout",
          "text": [
            "\n",
            "Epoch 95 Summary:\n",
            "Generator Loss: 0.4183\n",
            "Discriminator Loss: 0.0128\n",
            "Classifier A - Loss: 0.0107, Acc: 0.9934\n",
            "Classifier B - Loss: 0.0026, Acc: 1.0000\n"
          ]
        },
        {
          "output_type": "stream",
          "name": "stderr",
          "text": [
            "Epoch 96/150: 100%|██████████| 10/10 [01:32<00:00,  9.24s/it, G_loss=0.398, D_loss=0.0109, ClsA_loss=4.91e-5, ClsB_loss=0.00192]\n"
          ]
        },
        {
          "output_type": "stream",
          "name": "stdout",
          "text": [
            "\n",
            "Epoch 96 Summary:\n",
            "Generator Loss: 0.4176\n",
            "Discriminator Loss: 0.0124\n",
            "Classifier A - Loss: 0.0087, Acc: 0.9934\n",
            "Classifier B - Loss: 0.0011, Acc: 1.0000\n"
          ]
        },
        {
          "output_type": "stream",
          "name": "stderr",
          "text": [
            "Epoch 97/150: 100%|██████████| 10/10 [01:32<00:00,  9.22s/it, G_loss=0.392, D_loss=0.0113, ClsA_loss=0.00763, ClsB_loss=0.0013]\n"
          ]
        },
        {
          "output_type": "stream",
          "name": "stdout",
          "text": [
            "\n",
            "Epoch 97 Summary:\n",
            "Generator Loss: 0.4172\n",
            "Discriminator Loss: 0.0122\n",
            "Classifier A - Loss: 0.2900, Acc: 0.9338\n",
            "Classifier B - Loss: 0.0013, Acc: 1.0000\n"
          ]
        },
        {
          "output_type": "stream",
          "name": "stderr",
          "text": [
            "Epoch 98/150: 100%|██████████| 10/10 [01:32<00:00,  9.21s/it, G_loss=0.393, D_loss=0.0117, ClsA_loss=0.0106, ClsB_loss=2.93e-5]\n"
          ]
        },
        {
          "output_type": "stream",
          "name": "stdout",
          "text": [
            "\n",
            "Epoch 98 Summary:\n",
            "Generator Loss: 0.4171\n",
            "Discriminator Loss: 0.0117\n",
            "Classifier A - Loss: 0.0403, Acc: 0.9868\n",
            "Classifier B - Loss: 0.0005, Acc: 1.0000\n"
          ]
        },
        {
          "output_type": "stream",
          "name": "stderr",
          "text": [
            "Epoch 99/150: 100%|██████████| 10/10 [01:32<00:00,  9.25s/it, G_loss=0.443, D_loss=0.0101, ClsA_loss=0.0289, ClsB_loss=0.00128]\n"
          ]
        },
        {
          "output_type": "stream",
          "name": "stdout",
          "text": [
            "\n",
            "Epoch 99 Summary:\n",
            "Generator Loss: 0.4197\n",
            "Discriminator Loss: 0.0118\n",
            "Classifier A - Loss: 0.0260, Acc: 0.9934\n",
            "Classifier B - Loss: 0.0005, Acc: 1.0000\n"
          ]
        },
        {
          "output_type": "stream",
          "name": "stderr",
          "text": [
            "Epoch 100/150: 100%|██████████| 10/10 [01:31<00:00,  9.14s/it, G_loss=0.452, D_loss=0.0153, ClsA_loss=0.0275, ClsB_loss=0.293]\n"
          ]
        },
        {
          "output_type": "stream",
          "name": "stdout",
          "text": [
            "\n",
            "Epoch 100 Summary:\n",
            "Generator Loss: 0.4203\n",
            "Discriminator Loss: 0.0120\n",
            "Classifier A - Loss: 0.0375, Acc: 0.9868\n",
            "Classifier B - Loss: 0.0303, Acc: 0.9934\n"
          ]
        },
        {
          "output_type": "stream",
          "name": "stderr",
          "text": [
            "Epoch 101/150: 100%|██████████| 10/10 [01:30<00:00,  9.04s/it, G_loss=0.471, D_loss=0.0128, ClsA_loss=0.0011, ClsB_loss=0.0118]\n"
          ]
        },
        {
          "output_type": "stream",
          "name": "stdout",
          "text": [
            "\n",
            "Epoch 101 Summary:\n",
            "Generator Loss: 0.4213\n",
            "Discriminator Loss: 0.0113\n",
            "Classifier A - Loss: 0.0211, Acc: 0.9934\n",
            "Classifier B - Loss: 0.1524, Acc: 0.9669\n"
          ]
        },
        {
          "output_type": "stream",
          "name": "stderr",
          "text": [
            "Epoch 102/150: 100%|██████████| 10/10 [01:39<00:00,  9.93s/it, G_loss=0.537, D_loss=0.0215, ClsA_loss=0.000338, ClsB_loss=0.109]\n"
          ]
        },
        {
          "output_type": "stream",
          "name": "stdout",
          "text": [
            "\n",
            "Epoch 102 Summary:\n",
            "Generator Loss: 0.4251\n",
            "Discriminator Loss: 0.0118\n",
            "Classifier A - Loss: 0.0027, Acc: 1.0000\n",
            "Classifier B - Loss: 0.0302, Acc: 1.0000\n"
          ]
        },
        {
          "output_type": "stream",
          "name": "stderr",
          "text": [
            "Epoch 103/150: 100%|██████████| 10/10 [01:31<00:00,  9.20s/it, G_loss=0.409, D_loss=0.0104, ClsA_loss=0.000655, ClsB_loss=5.34e-5]\n"
          ]
        },
        {
          "output_type": "stream",
          "name": "stdout",
          "text": [
            "\n",
            "Epoch 103 Summary:\n",
            "Generator Loss: 0.4181\n",
            "Discriminator Loss: 0.0113\n",
            "Classifier A - Loss: 0.0029, Acc: 1.0000\n",
            "Classifier B - Loss: 0.0302, Acc: 0.9868\n"
          ]
        },
        {
          "output_type": "stream",
          "name": "stderr",
          "text": [
            "Epoch 104/150: 100%|██████████| 10/10 [01:59<00:00, 11.97s/it, G_loss=0.368, D_loss=0.0505, ClsA_loss=0.0221, ClsB_loss=0.000491]\n"
          ]
        },
        {
          "output_type": "stream",
          "name": "stdout",
          "text": [
            "\n",
            "Epoch 104 Summary:\n",
            "Generator Loss: 0.4156\n",
            "Discriminator Loss: 0.0152\n",
            "Classifier A - Loss: 0.0036, Acc: 1.0000\n",
            "Classifier B - Loss: 0.0243, Acc: 0.9934\n"
          ]
        },
        {
          "output_type": "stream",
          "name": "stderr",
          "text": [
            "Epoch 105/150: 100%|██████████| 10/10 [01:38<00:00,  9.87s/it, G_loss=0.374, D_loss=0.0202, ClsA_loss=3.27e-5, ClsB_loss=0.000276]\n"
          ]
        },
        {
          "output_type": "stream",
          "name": "stdout",
          "text": [
            "\n",
            "Epoch 105 Summary:\n",
            "Generator Loss: 0.4151\n",
            "Discriminator Loss: 0.0268\n",
            "Classifier A - Loss: 0.0010, Acc: 1.0000\n",
            "Classifier B - Loss: 0.0080, Acc: 1.0000\n"
          ]
        },
        {
          "output_type": "stream",
          "name": "stderr",
          "text": [
            "Epoch 106/150: 100%|██████████| 10/10 [01:32<00:00,  9.25s/it, G_loss=0.433, D_loss=0.0197, ClsA_loss=0.000367, ClsB_loss=0.0057]\n"
          ]
        },
        {
          "output_type": "stream",
          "name": "stdout",
          "text": [
            "\n",
            "Epoch 106 Summary:\n",
            "Generator Loss: 0.4189\n",
            "Discriminator Loss: 0.0192\n",
            "Classifier A - Loss: 0.0007, Acc: 1.0000\n",
            "Classifier B - Loss: 0.0051, Acc: 1.0000\n"
          ]
        },
        {
          "output_type": "stream",
          "name": "stderr",
          "text": [
            "Epoch 107/150: 100%|██████████| 10/10 [01:32<00:00,  9.29s/it, G_loss=0.411, D_loss=0.0123, ClsA_loss=0.000509, ClsB_loss=0.000216]\n"
          ]
        },
        {
          "output_type": "stream",
          "name": "stdout",
          "text": [
            "\n",
            "Epoch 107 Summary:\n",
            "Generator Loss: 0.4174\n",
            "Discriminator Loss: 0.0150\n",
            "Classifier A - Loss: 0.0015, Acc: 1.0000\n",
            "Classifier B - Loss: 0.0431, Acc: 0.9868\n"
          ]
        },
        {
          "output_type": "stream",
          "name": "stderr",
          "text": [
            "Epoch 108/150: 100%|██████████| 10/10 [01:40<00:00, 10.02s/it, G_loss=0.528, D_loss=0.0154, ClsA_loss=0.000871, ClsB_loss=0.584]\n"
          ]
        },
        {
          "output_type": "stream",
          "name": "stdout",
          "text": [
            "\n",
            "Epoch 108 Summary:\n",
            "Generator Loss: 0.4238\n",
            "Discriminator Loss: 0.0128\n",
            "Classifier A - Loss: 0.0007, Acc: 1.0000\n",
            "Classifier B - Loss: 0.0631, Acc: 0.9934\n"
          ]
        },
        {
          "output_type": "stream",
          "name": "stderr",
          "text": [
            "Epoch 109/150: 100%|██████████| 10/10 [01:33<00:00,  9.33s/it, G_loss=0.419, D_loss=0.0101, ClsA_loss=5.88e-5, ClsB_loss=0.000291]\n"
          ]
        },
        {
          "output_type": "stream",
          "name": "stdout",
          "text": [
            "\n",
            "Epoch 109 Summary:\n",
            "Generator Loss: 0.4178\n",
            "Discriminator Loss: 0.0111\n",
            "Classifier A - Loss: 0.0006, Acc: 1.0000\n",
            "Classifier B - Loss: 0.0598, Acc: 0.9934\n"
          ]
        },
        {
          "output_type": "stream",
          "name": "stderr",
          "text": [
            "Epoch 110/150: 100%|██████████| 10/10 [01:32<00:00,  9.22s/it, G_loss=0.422, D_loss=0.0125, ClsA_loss=0.000855, ClsB_loss=0.00072]\n"
          ]
        },
        {
          "output_type": "stream",
          "name": "stdout",
          "text": [
            "\n",
            "Epoch 110 Summary:\n",
            "Generator Loss: 0.4180\n",
            "Discriminator Loss: 0.0104\n",
            "Classifier A - Loss: 0.0004, Acc: 1.0000\n",
            "Classifier B - Loss: 0.0189, Acc: 0.9934\n"
          ]
        },
        {
          "output_type": "stream",
          "name": "stderr",
          "text": [
            "Epoch 111/150: 100%|██████████| 10/10 [01:32<00:00,  9.25s/it, G_loss=0.427, D_loss=0.0122, ClsA_loss=0.0002, ClsB_loss=0.0218]\n"
          ]
        },
        {
          "output_type": "stream",
          "name": "stdout",
          "text": [
            "\n",
            "Epoch 111 Summary:\n",
            "Generator Loss: 0.4182\n",
            "Discriminator Loss: 0.0100\n",
            "Classifier A - Loss: 0.0006, Acc: 1.0000\n",
            "Classifier B - Loss: 0.0069, Acc: 1.0000\n"
          ]
        },
        {
          "output_type": "stream",
          "name": "stderr",
          "text": [
            "Epoch 112/150: 100%|██████████| 10/10 [01:32<00:00,  9.26s/it, G_loss=0.434, D_loss=0.00984, ClsA_loss=0.000346, ClsB_loss=0.000787]\n"
          ]
        },
        {
          "output_type": "stream",
          "name": "stdout",
          "text": [
            "\n",
            "Epoch 112 Summary:\n",
            "Generator Loss: 0.4185\n",
            "Discriminator Loss: 0.0095\n",
            "Classifier A - Loss: 0.0006, Acc: 1.0000\n",
            "Classifier B - Loss: 0.0088, Acc: 1.0000\n"
          ]
        },
        {
          "output_type": "stream",
          "name": "stderr",
          "text": [
            "Epoch 113/150: 100%|██████████| 10/10 [01:32<00:00,  9.21s/it, G_loss=0.461, D_loss=0.0107, ClsA_loss=6.75e-5, ClsB_loss=0.0026]\n"
          ]
        },
        {
          "output_type": "stream",
          "name": "stdout",
          "text": [
            "\n",
            "Epoch 113 Summary:\n",
            "Generator Loss: 0.4200\n",
            "Discriminator Loss: 0.0093\n",
            "Classifier A - Loss: 0.0007, Acc: 1.0000\n",
            "Classifier B - Loss: 0.0049, Acc: 1.0000\n"
          ]
        },
        {
          "output_type": "stream",
          "name": "stderr",
          "text": [
            "Epoch 114/150: 100%|██████████| 10/10 [01:37<00:00,  9.72s/it, G_loss=0.439, D_loss=0.0136, ClsA_loss=0.000292, ClsB_loss=0.00108]\n"
          ]
        },
        {
          "output_type": "stream",
          "name": "stdout",
          "text": [
            "\n",
            "Epoch 114 Summary:\n",
            "Generator Loss: 0.4187\n",
            "Discriminator Loss: 0.0098\n",
            "Classifier A - Loss: 0.0004, Acc: 1.0000\n",
            "Classifier B - Loss: 0.0010, Acc: 1.0000\n"
          ]
        },
        {
          "output_type": "stream",
          "name": "stderr",
          "text": [
            "Epoch 115/150: 100%|██████████| 10/10 [01:32<00:00,  9.29s/it, G_loss=0.414, D_loss=0.00863, ClsA_loss=0.00349, ClsB_loss=0.00337]\n"
          ]
        },
        {
          "output_type": "stream",
          "name": "stdout",
          "text": [
            "\n",
            "Epoch 115 Summary:\n",
            "Generator Loss: 0.4172\n",
            "Discriminator Loss: 0.0089\n",
            "Classifier A - Loss: 0.0006, Acc: 1.0000\n",
            "Classifier B - Loss: 0.0009, Acc: 1.0000\n"
          ]
        },
        {
          "output_type": "stream",
          "name": "stderr",
          "text": [
            "Epoch 116/150: 100%|██████████| 10/10 [01:32<00:00,  9.27s/it, G_loss=0.349, D_loss=0.00775, ClsA_loss=0.000308, ClsB_loss=5.47e-5]\n"
          ]
        },
        {
          "output_type": "stream",
          "name": "stdout",
          "text": [
            "\n",
            "Epoch 116 Summary:\n",
            "Generator Loss: 0.4135\n",
            "Discriminator Loss: 0.0088\n",
            "Classifier A - Loss: 0.0008, Acc: 1.0000\n",
            "Classifier B - Loss: 0.0065, Acc: 1.0000\n"
          ]
        },
        {
          "output_type": "stream",
          "name": "stderr",
          "text": [
            "Epoch 117/150: 100%|██████████| 10/10 [01:32<00:00,  9.22s/it, G_loss=0.427, D_loss=0.00875, ClsA_loss=1.01e-5, ClsB_loss=4.35e-5]\n"
          ]
        },
        {
          "output_type": "stream",
          "name": "stdout",
          "text": [
            "\n",
            "Epoch 117 Summary:\n",
            "Generator Loss: 0.4178\n",
            "Discriminator Loss: 0.0089\n",
            "Classifier A - Loss: 0.0007, Acc: 1.0000\n",
            "Classifier B - Loss: 0.0014, Acc: 1.0000\n"
          ]
        },
        {
          "output_type": "stream",
          "name": "stderr",
          "text": [
            "Epoch 118/150: 100%|██████████| 10/10 [01:32<00:00,  9.27s/it, G_loss=0.352, D_loss=0.0085, ClsA_loss=4.95e-5, ClsB_loss=4.93e-5]\n"
          ]
        },
        {
          "output_type": "stream",
          "name": "stdout",
          "text": [
            "\n",
            "Epoch 118 Summary:\n",
            "Generator Loss: 0.4137\n",
            "Discriminator Loss: 0.0085\n",
            "Classifier A - Loss: 0.0003, Acc: 1.0000\n",
            "Classifier B - Loss: 0.0003, Acc: 1.0000\n"
          ]
        },
        {
          "output_type": "stream",
          "name": "stderr",
          "text": [
            "Epoch 119/150: 100%|██████████| 10/10 [01:32<00:00,  9.22s/it, G_loss=0.359, D_loss=0.00876, ClsA_loss=0.000461, ClsB_loss=0.000346]\n"
          ]
        },
        {
          "output_type": "stream",
          "name": "stdout",
          "text": [
            "\n",
            "Epoch 119 Summary:\n",
            "Generator Loss: 0.4141\n",
            "Discriminator Loss: 0.0091\n",
            "Classifier A - Loss: 0.0003, Acc: 1.0000\n",
            "Classifier B - Loss: 0.0015, Acc: 1.0000\n"
          ]
        },
        {
          "output_type": "stream",
          "name": "stderr",
          "text": [
            "Epoch 120/150: 100%|██████████| 10/10 [01:32<00:00,  9.26s/it, G_loss=0.587, D_loss=0.0399, ClsA_loss=5.1e-5, ClsB_loss=2.5e-5]\n"
          ]
        },
        {
          "output_type": "stream",
          "name": "stdout",
          "text": [
            "\n",
            "Epoch 120 Summary:\n",
            "Generator Loss: 0.4269\n",
            "Discriminator Loss: 0.0108\n",
            "Classifier A - Loss: 0.0002, Acc: 1.0000\n",
            "Classifier B - Loss: 0.0005, Acc: 1.0000\n"
          ]
        },
        {
          "output_type": "stream",
          "name": "stderr",
          "text": [
            "Epoch 121/150: 100%|██████████| 10/10 [01:31<00:00,  9.17s/it, G_loss=0.389, D_loss=0.00643, ClsA_loss=0.00199, ClsB_loss=0.00747]\n"
          ]
        },
        {
          "output_type": "stream",
          "name": "stdout",
          "text": [
            "\n",
            "Epoch 121 Summary:\n",
            "Generator Loss: 0.4156\n",
            "Discriminator Loss: 0.0084\n",
            "Classifier A - Loss: 0.0005, Acc: 1.0000\n",
            "Classifier B - Loss: 0.0013, Acc: 1.0000\n"
          ]
        },
        {
          "output_type": "stream",
          "name": "stderr",
          "text": [
            "Epoch 122/150: 100%|██████████| 10/10 [01:31<00:00,  9.18s/it, G_loss=0.488, D_loss=0.011, ClsA_loss=6.03e-5, ClsB_loss=2.95e-5]\n"
          ]
        },
        {
          "output_type": "stream",
          "name": "stdout",
          "text": [
            "\n",
            "Epoch 122 Summary:\n",
            "Generator Loss: 0.4212\n",
            "Discriminator Loss: 0.0084\n",
            "Classifier A - Loss: 0.0002, Acc: 1.0000\n",
            "Classifier B - Loss: 0.0002, Acc: 1.0000\n"
          ]
        },
        {
          "output_type": "stream",
          "name": "stderr",
          "text": [
            "Epoch 123/150: 100%|██████████| 10/10 [01:32<00:00,  9.20s/it, G_loss=0.4, D_loss=0.00727, ClsA_loss=0.000157, ClsB_loss=2.33e-5]\n"
          ]
        },
        {
          "output_type": "stream",
          "name": "stdout",
          "text": [
            "\n",
            "Epoch 123 Summary:\n",
            "Generator Loss: 0.4162\n",
            "Discriminator Loss: 0.0078\n",
            "Classifier A - Loss: 0.0005, Acc: 1.0000\n",
            "Classifier B - Loss: 0.0007, Acc: 1.0000\n"
          ]
        },
        {
          "output_type": "stream",
          "name": "stderr",
          "text": [
            "Epoch 124/150: 100%|██████████| 10/10 [01:32<00:00,  9.26s/it, G_loss=0.432, D_loss=0.00745, ClsA_loss=3.88e-5, ClsB_loss=5.28e-5]\n"
          ]
        },
        {
          "output_type": "stream",
          "name": "stdout",
          "text": [
            "\n",
            "Epoch 124 Summary:\n",
            "Generator Loss: 0.4180\n",
            "Discriminator Loss: 0.0077\n",
            "Classifier A - Loss: 0.0002, Acc: 1.0000\n",
            "Classifier B - Loss: 0.0003, Acc: 1.0000\n"
          ]
        },
        {
          "output_type": "stream",
          "name": "stderr",
          "text": [
            "Epoch 125/150: 100%|██████████| 10/10 [01:32<00:00,  9.25s/it, G_loss=0.476, D_loss=0.00956, ClsA_loss=4.74e-5, ClsB_loss=3.37e-5]\n"
          ]
        },
        {
          "output_type": "stream",
          "name": "stdout",
          "text": [
            "\n",
            "Epoch 125 Summary:\n",
            "Generator Loss: 0.4204\n",
            "Discriminator Loss: 0.0077\n",
            "Classifier A - Loss: 0.0001, Acc: 1.0000\n",
            "Classifier B - Loss: 0.0001, Acc: 1.0000\n"
          ]
        },
        {
          "output_type": "stream",
          "name": "stderr",
          "text": [
            "Epoch 126/150: 100%|██████████| 10/10 [01:32<00:00,  9.24s/it, G_loss=0.334, D_loss=0.00838, ClsA_loss=0.000104, ClsB_loss=8.82e-5]\n"
          ]
        },
        {
          "output_type": "stream",
          "name": "stdout",
          "text": [
            "\n",
            "Epoch 126 Summary:\n",
            "Generator Loss: 0.4124\n",
            "Discriminator Loss: 0.0079\n",
            "Classifier A - Loss: 0.0001, Acc: 1.0000\n",
            "Classifier B - Loss: 0.0001, Acc: 1.0000\n"
          ]
        },
        {
          "output_type": "stream",
          "name": "stderr",
          "text": [
            "Epoch 127/150: 100%|██████████| 10/10 [01:31<00:00,  9.20s/it, G_loss=0.438, D_loss=0.0078, ClsA_loss=5.38e-5, ClsB_loss=7.81e-5]\n"
          ]
        },
        {
          "output_type": "stream",
          "name": "stdout",
          "text": [
            "\n",
            "Epoch 127 Summary:\n",
            "Generator Loss: 0.4181\n",
            "Discriminator Loss: 0.0072\n",
            "Classifier A - Loss: 0.0002, Acc: 1.0000\n",
            "Classifier B - Loss: 0.0005, Acc: 1.0000\n"
          ]
        },
        {
          "output_type": "stream",
          "name": "stderr",
          "text": [
            "Epoch 128/150: 100%|██████████| 10/10 [01:33<00:00,  9.31s/it, G_loss=0.392, D_loss=0.00635, ClsA_loss=1.1e-5, ClsB_loss=2.49e-5]\n"
          ]
        },
        {
          "output_type": "stream",
          "name": "stdout",
          "text": [
            "\n",
            "Epoch 128 Summary:\n",
            "Generator Loss: 0.4155\n",
            "Discriminator Loss: 0.0070\n",
            "Classifier A - Loss: 0.0003, Acc: 1.0000\n",
            "Classifier B - Loss: 0.0003, Acc: 1.0000\n"
          ]
        },
        {
          "output_type": "stream",
          "name": "stderr",
          "text": [
            "Epoch 129/150: 100%|██████████| 10/10 [01:32<00:00,  9.30s/it, G_loss=0.392, D_loss=0.00532, ClsA_loss=0.000217, ClsB_loss=1.6e-5]\n"
          ]
        },
        {
          "output_type": "stream",
          "name": "stdout",
          "text": [
            "\n",
            "Epoch 129 Summary:\n",
            "Generator Loss: 0.4154\n",
            "Discriminator Loss: 0.0070\n",
            "Classifier A - Loss: 0.0001, Acc: 1.0000\n",
            "Classifier B - Loss: 0.0001, Acc: 1.0000\n"
          ]
        },
        {
          "output_type": "stream",
          "name": "stderr",
          "text": [
            "Epoch 130/150: 100%|██████████| 10/10 [01:33<00:00,  9.32s/it, G_loss=0.413, D_loss=0.00664, ClsA_loss=5.25e-5, ClsB_loss=3.02e-5]\n"
          ]
        },
        {
          "output_type": "stream",
          "name": "stdout",
          "text": [
            "\n",
            "Epoch 130 Summary:\n",
            "Generator Loss: 0.4165\n",
            "Discriminator Loss: 0.0068\n",
            "Classifier A - Loss: 0.0002, Acc: 1.0000\n",
            "Classifier B - Loss: 0.0002, Acc: 1.0000\n"
          ]
        },
        {
          "output_type": "stream",
          "name": "stderr",
          "text": [
            "Epoch 131/150: 100%|██████████| 10/10 [01:36<00:00,  9.69s/it, G_loss=0.441, D_loss=0.00738, ClsA_loss=0.000114, ClsB_loss=2.57e-5]\n"
          ]
        },
        {
          "output_type": "stream",
          "name": "stdout",
          "text": [
            "\n",
            "Epoch 131 Summary:\n",
            "Generator Loss: 0.4181\n",
            "Discriminator Loss: 0.0068\n",
            "Classifier A - Loss: 0.0001, Acc: 1.0000\n",
            "Classifier B - Loss: 0.0001, Acc: 1.0000\n"
          ]
        },
        {
          "output_type": "stream",
          "name": "stderr",
          "text": [
            "Epoch 132/150: 100%|██████████| 10/10 [01:34<00:00,  9.46s/it, G_loss=0.419, D_loss=0.00639, ClsA_loss=8.36e-5, ClsB_loss=1.88e-5]\n"
          ]
        },
        {
          "output_type": "stream",
          "name": "stdout",
          "text": [
            "\n",
            "Epoch 132 Summary:\n",
            "Generator Loss: 0.4169\n",
            "Discriminator Loss: 0.0066\n",
            "Classifier A - Loss: 0.0002, Acc: 1.0000\n",
            "Classifier B - Loss: 0.0003, Acc: 1.0000\n"
          ]
        },
        {
          "output_type": "stream",
          "name": "stderr",
          "text": [
            "Epoch 133/150: 100%|██████████| 10/10 [01:33<00:00,  9.34s/it, G_loss=0.42, D_loss=0.00603, ClsA_loss=3.3e-5, ClsB_loss=8.45e-5]\n"
          ]
        },
        {
          "output_type": "stream",
          "name": "stdout",
          "text": [
            "\n",
            "Epoch 133 Summary:\n",
            "Generator Loss: 0.4168\n",
            "Discriminator Loss: 0.0065\n",
            "Classifier A - Loss: 0.0002, Acc: 1.0000\n",
            "Classifier B - Loss: 0.0002, Acc: 1.0000\n"
          ]
        },
        {
          "output_type": "stream",
          "name": "stderr",
          "text": [
            "Epoch 134/150: 100%|██████████| 10/10 [01:34<00:00,  9.42s/it, G_loss=0.426, D_loss=0.00624, ClsA_loss=6.88e-6, ClsB_loss=5.43e-5]\n"
          ]
        },
        {
          "output_type": "stream",
          "name": "stdout",
          "text": [
            "\n",
            "Epoch 134 Summary:\n",
            "Generator Loss: 0.4172\n",
            "Discriminator Loss: 0.0064\n",
            "Classifier A - Loss: 0.0011, Acc: 1.0000\n",
            "Classifier B - Loss: 0.0010, Acc: 1.0000\n"
          ]
        },
        {
          "output_type": "stream",
          "name": "stderr",
          "text": [
            "Epoch 135/150: 100%|██████████| 10/10 [01:33<00:00,  9.37s/it, G_loss=0.398, D_loss=0.00689, ClsA_loss=3.57e-5, ClsB_loss=3.15e-5]\n"
          ]
        },
        {
          "output_type": "stream",
          "name": "stdout",
          "text": [
            "\n",
            "Epoch 135 Summary:\n",
            "Generator Loss: 0.4156\n",
            "Discriminator Loss: 0.0065\n",
            "Classifier A - Loss: 0.0001, Acc: 1.0000\n",
            "Classifier B - Loss: 0.0001, Acc: 1.0000\n"
          ]
        },
        {
          "output_type": "stream",
          "name": "stderr",
          "text": [
            "Epoch 136/150: 100%|██████████| 10/10 [01:34<00:00,  9.43s/it, G_loss=0.361, D_loss=0.00644, ClsA_loss=9.29e-5, ClsB_loss=1.82e-5]\n"
          ]
        },
        {
          "output_type": "stream",
          "name": "stdout",
          "text": [
            "\n",
            "Epoch 136 Summary:\n",
            "Generator Loss: 0.4134\n",
            "Discriminator Loss: 0.0063\n",
            "Classifier A - Loss: 0.0002, Acc: 1.0000\n",
            "Classifier B - Loss: 0.0002, Acc: 1.0000\n"
          ]
        },
        {
          "output_type": "stream",
          "name": "stderr",
          "text": [
            "Epoch 137/150: 100%|██████████| 10/10 [01:38<00:00,  9.89s/it, G_loss=0.377, D_loss=0.00546, ClsA_loss=0.000719, ClsB_loss=0.000125]\n"
          ]
        },
        {
          "output_type": "stream",
          "name": "stdout",
          "text": [
            "\n",
            "Epoch 137 Summary:\n",
            "Generator Loss: 0.4144\n",
            "Discriminator Loss: 0.0062\n",
            "Classifier A - Loss: 0.0002, Acc: 1.0000\n",
            "Classifier B - Loss: 0.0003, Acc: 1.0000\n"
          ]
        },
        {
          "output_type": "stream",
          "name": "stderr",
          "text": [
            "Epoch 138/150: 100%|██████████| 10/10 [01:33<00:00,  9.40s/it, G_loss=0.456, D_loss=0.00643, ClsA_loss=1.25e-5, ClsB_loss=6.72e-5]\n"
          ]
        },
        {
          "output_type": "stream",
          "name": "stdout",
          "text": [
            "\n",
            "Epoch 138 Summary:\n",
            "Generator Loss: 0.4188\n",
            "Discriminator Loss: 0.0060\n",
            "Classifier A - Loss: 0.0001, Acc: 1.0000\n",
            "Classifier B - Loss: 0.0004, Acc: 1.0000\n"
          ]
        },
        {
          "output_type": "stream",
          "name": "stderr",
          "text": [
            "Epoch 139/150: 100%|██████████| 10/10 [01:34<00:00,  9.42s/it, G_loss=0.417, D_loss=0.00661, ClsA_loss=0.00305, ClsB_loss=0.00406]\n"
          ]
        },
        {
          "output_type": "stream",
          "name": "stdout",
          "text": [
            "\n",
            "Epoch 139 Summary:\n",
            "Generator Loss: 0.4165\n",
            "Discriminator Loss: 0.0063\n",
            "Classifier A - Loss: 0.0004, Acc: 1.0000\n",
            "Classifier B - Loss: 0.0005, Acc: 1.0000\n"
          ]
        },
        {
          "output_type": "stream",
          "name": "stderr",
          "text": [
            "Epoch 140/150: 100%|██████████| 10/10 [01:34<00:00,  9.45s/it, G_loss=0.418, D_loss=0.00559, ClsA_loss=0.000294, ClsB_loss=0.000151]\n"
          ]
        },
        {
          "output_type": "stream",
          "name": "stdout",
          "text": [
            "\n",
            "Epoch 140 Summary:\n",
            "Generator Loss: 0.4166\n",
            "Discriminator Loss: 0.0061\n",
            "Classifier A - Loss: 0.0002, Acc: 1.0000\n",
            "Classifier B - Loss: 0.0002, Acc: 1.0000\n"
          ]
        },
        {
          "output_type": "stream",
          "name": "stderr",
          "text": [
            "Epoch 141/150: 100%|██████████| 10/10 [01:35<00:00,  9.56s/it, G_loss=0.397, D_loss=0.00755, ClsA_loss=0.000614, ClsB_loss=0.00363]\n"
          ]
        },
        {
          "output_type": "stream",
          "name": "stdout",
          "text": [
            "\n",
            "Epoch 141 Summary:\n",
            "Generator Loss: 0.4153\n",
            "Discriminator Loss: 0.0067\n",
            "Classifier A - Loss: 0.0003, Acc: 1.0000\n",
            "Classifier B - Loss: 0.0010, Acc: 1.0000\n"
          ]
        },
        {
          "output_type": "stream",
          "name": "stderr",
          "text": [
            "Epoch 142/150: 100%|██████████| 10/10 [01:33<00:00,  9.39s/it, G_loss=0.306, D_loss=0.00747, ClsA_loss=0.000205, ClsB_loss=0.000223]\n"
          ]
        },
        {
          "output_type": "stream",
          "name": "stdout",
          "text": [
            "\n",
            "Epoch 142 Summary:\n",
            "Generator Loss: 0.4102\n",
            "Discriminator Loss: 0.0061\n",
            "Classifier A - Loss: 0.0001, Acc: 1.0000\n",
            "Classifier B - Loss: 0.0001, Acc: 1.0000\n"
          ]
        },
        {
          "output_type": "stream",
          "name": "stderr",
          "text": [
            "Epoch 143/150: 100%|██████████| 10/10 [01:33<00:00,  9.37s/it, G_loss=0.453, D_loss=0.0083, ClsA_loss=1.37e-5, ClsB_loss=1.92e-5]\n"
          ]
        },
        {
          "output_type": "stream",
          "name": "stdout",
          "text": [
            "\n",
            "Epoch 143 Summary:\n",
            "Generator Loss: 0.4185\n",
            "Discriminator Loss: 0.0059\n",
            "Classifier A - Loss: 0.0001, Acc: 1.0000\n",
            "Classifier B - Loss: 0.0001, Acc: 1.0000\n"
          ]
        },
        {
          "output_type": "stream",
          "name": "stderr",
          "text": [
            "Epoch 144/150: 100%|██████████| 10/10 [01:34<00:00,  9.43s/it, G_loss=0.376, D_loss=0.00546, ClsA_loss=2.12e-5, ClsB_loss=1.7e-5]\n"
          ]
        },
        {
          "output_type": "stream",
          "name": "stdout",
          "text": [
            "\n",
            "Epoch 144 Summary:\n",
            "Generator Loss: 0.4141\n",
            "Discriminator Loss: 0.0056\n",
            "Classifier A - Loss: 0.0002, Acc: 1.0000\n",
            "Classifier B - Loss: 0.0002, Acc: 1.0000\n"
          ]
        },
        {
          "output_type": "stream",
          "name": "stderr",
          "text": [
            "Epoch 145/150: 100%|██████████| 10/10 [01:34<00:00,  9.41s/it, G_loss=0.355, D_loss=0.00498, ClsA_loss=4.01e-5, ClsB_loss=1.29e-5]\n"
          ]
        },
        {
          "output_type": "stream",
          "name": "stdout",
          "text": [
            "\n",
            "Epoch 145 Summary:\n",
            "Generator Loss: 0.4128\n",
            "Discriminator Loss: 0.0053\n",
            "Classifier A - Loss: 0.0002, Acc: 1.0000\n",
            "Classifier B - Loss: 0.0001, Acc: 1.0000\n"
          ]
        },
        {
          "output_type": "stream",
          "name": "stderr",
          "text": [
            "Epoch 146/150: 100%|██████████| 10/10 [01:34<00:00,  9.48s/it, G_loss=0.533, D_loss=0.0128, ClsA_loss=0.000111, ClsB_loss=0.00135]\n"
          ]
        },
        {
          "output_type": "stream",
          "name": "stdout",
          "text": [
            "\n",
            "Epoch 146 Summary:\n",
            "Generator Loss: 0.4228\n",
            "Discriminator Loss: 0.0063\n",
            "Classifier A - Loss: 0.0004, Acc: 1.0000\n",
            "Classifier B - Loss: 0.0005, Acc: 1.0000\n"
          ]
        },
        {
          "output_type": "stream",
          "name": "stderr",
          "text": [
            "Epoch 147/150: 100%|██████████| 10/10 [01:34<00:00,  9.46s/it, G_loss=0.416, D_loss=0.00526, ClsA_loss=2.81e-5, ClsB_loss=3.66e-5]\n"
          ]
        },
        {
          "output_type": "stream",
          "name": "stdout",
          "text": [
            "\n",
            "Epoch 147 Summary:\n",
            "Generator Loss: 0.4162\n",
            "Discriminator Loss: 0.0053\n",
            "Classifier A - Loss: 0.0001, Acc: 1.0000\n",
            "Classifier B - Loss: 0.0001, Acc: 1.0000\n"
          ]
        },
        {
          "output_type": "stream",
          "name": "stderr",
          "text": [
            "Epoch 148/150: 100%|██████████| 10/10 [01:34<00:00,  9.46s/it, G_loss=0.427, D_loss=0.00636, ClsA_loss=7.14e-6, ClsB_loss=0.00012]\n"
          ]
        },
        {
          "output_type": "stream",
          "name": "stdout",
          "text": [
            "\n",
            "Epoch 148 Summary:\n",
            "Generator Loss: 0.4169\n",
            "Discriminator Loss: 0.0055\n",
            "Classifier A - Loss: 0.0001, Acc: 1.0000\n",
            "Classifier B - Loss: 0.0000, Acc: 1.0000\n"
          ]
        },
        {
          "output_type": "stream",
          "name": "stderr",
          "text": [
            "Epoch 149/150: 100%|██████████| 10/10 [01:34<00:00,  9.42s/it, G_loss=0.447, D_loss=0.00525, ClsA_loss=0.000269, ClsB_loss=0.000109]\n"
          ]
        },
        {
          "output_type": "stream",
          "name": "stdout",
          "text": [
            "\n",
            "Epoch 149 Summary:\n",
            "Generator Loss: 0.4180\n",
            "Discriminator Loss: 0.0050\n",
            "Classifier A - Loss: 0.0001, Acc: 1.0000\n",
            "Classifier B - Loss: 0.0003, Acc: 1.0000\n"
          ]
        },
        {
          "output_type": "stream",
          "name": "stderr",
          "text": [
            "Epoch 150/150: 100%|██████████| 10/10 [01:34<00:00,  9.44s/it, G_loss=0.384, D_loss=0.00475, ClsA_loss=0.000178, ClsB_loss=0.000246]\n"
          ]
        },
        {
          "output_type": "stream",
          "name": "stdout",
          "text": [
            "\n",
            "Epoch 150 Summary:\n",
            "Generator Loss: 0.4144\n",
            "Discriminator Loss: 0.0052\n",
            "Classifier A - Loss: 0.0002, Acc: 1.0000\n",
            "Classifier B - Loss: 0.0002, Acc: 1.0000\n",
            "\n",
            "Training completed in 3.97 hours\n"
          ]
        }
      ],
      "source": [
        "import torch\n",
        "import torch.nn as nn\n",
        "import torch.optim as optim\n",
        "from torch.utils.data import Dataset, DataLoader, random_split\n",
        "from torchvision import transforms, models\n",
        "import torchvision.utils as vutils\n",
        "from PIL import Image\n",
        "import os\n",
        "import numpy as np\n",
        "import matplotlib.pyplot as plt\n",
        "from sklearn.metrics import accuracy_score, f1_score, roc_auc_score\n",
        "from tqdm import tqdm\n",
        "import time\n",
        "import gc\n",
        "\n",
        "class RetinalDataset(Dataset):\n",
        "    def __init__(self, root_dir, transform=None, hr_size=128, lr_size=32):\n",
        "        self.root_dir = root_dir\n",
        "        self.transform = transform\n",
        "        self.hr_size = hr_size\n",
        "        self.lr_size = lr_size\n",
        "        self.classes = ['DME', 'DRUSEN']\n",
        "\n",
        "        self.image_paths = []\n",
        "        self.labels = []\n",
        "\n",
        "        for class_idx, class_name in enumerate(self.classes):\n",
        "            class_path = os.path.join(root_dir, class_name)\n",
        "            for img_name in os.listdir(class_path):\n",
        "                self.image_paths.append(os.path.join(class_path, img_name))\n",
        "                self.labels.append(class_idx)\n",
        "\n",
        "    def __len__(self):\n",
        "        return len(self.image_paths)\n",
        "\n",
        "    def __getitem__(self, idx):\n",
        "        img_path = self.image_paths[idx]\n",
        "        image = Image.open(img_path).convert('RGB')\n",
        "        label = self.labels[idx]\n",
        "\n",
        "        if self.transform:\n",
        "            hr_image = self.transform(image)\n",
        "\n",
        "        lr_transform = transforms.Compose([\n",
        "            transforms.Resize((self.lr_size, self.lr_size)),\n",
        "            transforms.ToTensor(),\n",
        "            transforms.Normalize([0.485, 0.456, 0.406], [0.229, 0.224, 0.225])\n",
        "        ])\n",
        "        lr_image = lr_transform(image)\n",
        "\n",
        "        return {'lr': lr_image, 'hr': hr_image, 'label': torch.tensor(label, dtype=torch.long)}\n",
        "\n",
        "def show_transformed_samples(dataset, num_samples=5, save_path='transformed_samples.png'):\n",
        "    fig, axes = plt.subplots(2, num_samples, figsize=(15, 6))\n",
        "\n",
        "    for i in range(num_samples):\n",
        "        sample = dataset[i]\n",
        "\n",
        "        # Show LR image\n",
        "        axes[0, i].imshow(sample['lr'].permute(1, 2, 0).numpy())\n",
        "        axes[0, i].set_title('LR (32x32)')\n",
        "        axes[0, i].axis('off')\n",
        "\n",
        "        # Show HR image\n",
        "        axes[1, i].imshow(sample['hr'].permute(1, 2, 0).numpy())\n",
        "        axes[1, i].set_title('HR (128x128)')\n",
        "        axes[1, i].axis('off')\n",
        "\n",
        "    plt.tight_layout()\n",
        "    plt.savefig(save_path)\n",
        "    plt.close()\n",
        "\n",
        "class MetricsTracker:\n",
        "    def __init__(self):\n",
        "        self.metrics = {\n",
        "            'g_losses': [],\n",
        "            'd_losses': [],\n",
        "            'cls_a_losses': [],\n",
        "            'cls_b_losses': [],\n",
        "            'cls_a_acc': [],\n",
        "            'cls_b_acc': []\n",
        "        }\n",
        "\n",
        "    def update(self, g_loss, d_loss, cls_a_loss, cls_b_loss, cls_a_acc, cls_b_acc):\n",
        "        self.metrics['g_losses'].append(g_loss)\n",
        "        self.metrics['d_losses'].append(d_loss)\n",
        "        self.metrics['cls_a_losses'].append(cls_a_loss)\n",
        "        self.metrics['cls_b_losses'].append(cls_b_loss)\n",
        "        self.metrics['cls_a_acc'].append(cls_a_acc)\n",
        "        self.metrics['cls_b_acc'].append(cls_b_acc)\n",
        "\n",
        "    def plot_metrics(self, save_path='training_metrics.png'):\n",
        "        fig, (ax1, ax2) = plt.subplots(2, 1, figsize=(12, 8))\n",
        "\n",
        "        # Plot losses\n",
        "        ax1.plot(self.metrics['g_losses'], label='Generator Loss')\n",
        "        ax1.plot(self.metrics['d_losses'], label='Discriminator Loss')\n",
        "        ax1.plot(self.metrics['cls_a_losses'], label='Classifier A Loss')\n",
        "        ax1.plot(self.metrics['cls_b_losses'], label='Classifier B Loss')\n",
        "        ax1.set_title('Training Losses')\n",
        "        ax1.set_xlabel('Iteration')\n",
        "        ax1.set_ylabel('Loss')\n",
        "        ax1.legend()\n",
        "\n",
        "        # Plot accuracies\n",
        "        ax2.plot(self.metrics['cls_a_acc'], label='Classifier A Accuracy')\n",
        "        ax2.plot(self.metrics['cls_b_acc'], label='Classifier B Accuracy')\n",
        "        ax2.set_title('Classification Accuracy')\n",
        "        ax2.set_xlabel('Iteration')\n",
        "        ax2.set_ylabel('Accuracy')\n",
        "        ax2.legend()\n",
        "\n",
        "        plt.tight_layout()\n",
        "        plt.savefig(save_path)\n",
        "        plt.close()\n",
        "\n",
        "def train_models(train_loader, val_loader, models, optimizers, criteria, device,\n",
        "                num_epochs=150, save_interval=10, checkpoint_dir='checkpoints'):\n",
        "    os.makedirs(checkpoint_dir, exist_ok=True)\n",
        "    generator, discriminator, classifier_a, classifier_b = models\n",
        "    optimizer_g, optimizer_d, optimizer_cls_a, optimizer_cls_b = optimizers\n",
        "    criterion_gan, criterion_content, criterion_cls = criteria\n",
        "\n",
        "    metrics_tracker = MetricsTracker()\n",
        "    best_val_acc = 0.0\n",
        "    start_time = time.time()\n",
        "\n",
        "    for epoch in range(num_epochs):\n",
        "        # Training loop with progress bar\n",
        "        generator.train()\n",
        "        discriminator.train()\n",
        "        classifier_a.train()\n",
        "        classifier_b.train()\n",
        "\n",
        "        running_g_loss = 0.0\n",
        "        running_d_loss = 0.0\n",
        "        running_cls_a_loss = 0.0\n",
        "        running_cls_b_loss = 0.0\n",
        "        running_cls_a_correct = 0\n",
        "        running_cls_b_correct = 0\n",
        "        total_samples = 0\n",
        "\n",
        "        pbar = tqdm(train_loader, desc=f'Epoch {epoch+1}/{num_epochs}')\n",
        "        for batch in pbar:\n",
        "            lr_images = batch['lr'].to(device)\n",
        "            hr_images = batch['hr'].to(device)\n",
        "            labels = batch['label'].to(device)\n",
        "            batch_size = lr_images.size(0)\n",
        "            total_samples += batch_size\n",
        "\n",
        "            # Train Discriminator\n",
        "            optimizer_d.zero_grad()\n",
        "            generated_images = generator(lr_images)\n",
        "            real_labels = torch.ones(batch_size, 1).to(device)\n",
        "            fake_labels = torch.zeros(batch_size, 1).to(device)\n",
        "\n",
        "            d_real_loss = criterion_gan(discriminator(hr_images), real_labels)\n",
        "            d_fake_loss = criterion_gan(discriminator(generated_images.detach()), fake_labels)\n",
        "            d_loss = (d_real_loss + d_fake_loss) / 2\n",
        "            d_loss.backward()\n",
        "            optimizer_d.step()\n",
        "\n",
        "            # Train Generator\n",
        "            optimizer_g.zero_grad()\n",
        "            g_content_loss = criterion_content(generated_images, hr_images)\n",
        "            g_adv_loss = criterion_gan(discriminator(generated_images), real_labels)\n",
        "            g_loss = g_content_loss + 0.001 * g_adv_loss\n",
        "            g_loss.backward()\n",
        "            optimizer_g.step()\n",
        "\n",
        "            # Train Classifier A\n",
        "            optimizer_cls_a.zero_grad()\n",
        "            outputs_a = classifier_a(hr_images)\n",
        "            loss_a = criterion_cls(outputs_a, labels)\n",
        "            loss_a.backward()\n",
        "            optimizer_cls_a.step()\n",
        "\n",
        "            # Train Classifier B\n",
        "            optimizer_cls_b.zero_grad()\n",
        "            outputs_b = classifier_b(generated_images.detach())\n",
        "            loss_b = criterion_cls(outputs_b, labels)\n",
        "            loss_b.backward()\n",
        "            optimizer_cls_b.step()\n",
        "\n",
        "            # Calculate accuracies\n",
        "            _, preds_a = torch.max(outputs_a, 1)\n",
        "            _, preds_b = torch.max(outputs_b, 1)\n",
        "            running_cls_a_correct += (preds_a == labels).sum().item()\n",
        "            running_cls_b_correct += (preds_b == labels).sum().item()\n",
        "\n",
        "            # Update running losses\n",
        "            running_g_loss += g_loss.item()\n",
        "            running_d_loss += d_loss.item()\n",
        "            running_cls_a_loss += loss_a.item()\n",
        "            running_cls_b_loss += loss_b.item()\n",
        "\n",
        "            # Update progress bar\n",
        "            pbar.set_postfix({\n",
        "                'G_loss': g_loss.item(),\n",
        "                'D_loss': d_loss.item(),\n",
        "                'ClsA_loss': loss_a.item(),\n",
        "                'ClsB_loss': loss_b.item()\n",
        "            })\n",
        "\n",
        "            # Free up memory\n",
        "            del generated_images, outputs_a, outputs_b\n",
        "            torch.cuda.empty_cache()\n",
        "\n",
        "        # Calculate epoch metrics\n",
        "        epoch_g_loss = running_g_loss / len(train_loader)\n",
        "        epoch_d_loss = running_d_loss / len(train_loader)\n",
        "        epoch_cls_a_loss = running_cls_a_loss / len(train_loader)\n",
        "        epoch_cls_b_loss = running_cls_b_loss / len(train_loader)\n",
        "        epoch_cls_a_acc = running_cls_a_correct / total_samples\n",
        "        epoch_cls_b_acc = running_cls_b_correct / total_samples\n",
        "\n",
        "        # Update metrics tracker\n",
        "        metrics_tracker.update(\n",
        "            epoch_g_loss, epoch_d_loss,\n",
        "            epoch_cls_a_loss, epoch_cls_b_loss,\n",
        "            epoch_cls_a_acc, epoch_cls_b_acc\n",
        "        )\n",
        "\n",
        "        # Save checkpoint\n",
        "        if (epoch + 1) % save_interval == 0:\n",
        "            checkpoint_path = os.path.join(checkpoint_dir, f'checkpoint_epoch_{epoch+1}.pth')\n",
        "            torch.save({\n",
        "                'epoch': epoch,\n",
        "                'generator_state_dict': generator.state_dict(),\n",
        "                'discriminator_state_dict': discriminator.state_dict(),\n",
        "                'classifier_a_state_dict': classifier_a.state_dict(),\n",
        "                'classifier_b_state_dict': classifier_b.state_dict(),\n",
        "                'optimizer_g_state_dict': optimizer_g.state_dict(),\n",
        "                'optimizer_d_state_dict': optimizer_d.state_dict(),\n",
        "                'optimizer_cls_a_state_dict': optimizer_cls_a.state_dict(),\n",
        "                'optimizer_cls_b_state_dict': optimizer_cls_b.state_dict(),\n",
        "                'metrics': metrics_tracker.metrics\n",
        "            }, checkpoint_path)\n",
        "\n",
        "            # Save sample images\n",
        "            save_sample_images(val_loader, generator, device,\n",
        "                             save_path=f'samples_epoch_{epoch+1}.png')\n",
        "\n",
        "        # Plot and save metrics\n",
        "        metrics_tracker.plot_metrics()\n",
        "\n",
        "        # Print epoch summary\n",
        "        print(f'\\nEpoch {epoch+1} Summary:')\n",
        "        print(f'Generator Loss: {epoch_g_loss:.4f}')\n",
        "        print(f'Discriminator Loss: {epoch_d_loss:.4f}')\n",
        "        print(f'Classifier A - Loss: {epoch_cls_a_loss:.4f}, Acc: {epoch_cls_a_acc:.4f}')\n",
        "        print(f'Classifier B - Loss: {epoch_cls_b_loss:.4f}, Acc: {epoch_cls_b_acc:.4f}')\n",
        "\n",
        "        # Memory management\n",
        "        gc.collect()\n",
        "        torch.cuda.empty_cache()\n",
        "\n",
        "    total_time = time.time() - start_time\n",
        "    print(f'\\nTraining completed in {total_time/3600:.2f} hours')\n",
        "    return metrics_tracker\n",
        "\n",
        "def main():\n",
        "    # Device configuration\n",
        "    device = torch.device('cuda' if torch.cuda.is_available() else 'cpu')\n",
        "    print(f\"Using device: {device}\")\n",
        "\n",
        "    # Data transforms\n",
        "    transform = transforms.Compose([\n",
        "        transforms.Resize((128, 128)),\n",
        "        transforms.ToTensor(),\n",
        "        transforms.Normalize([0.485, 0.456, 0.406], [0.229, 0.224, 0.225])\n",
        "    ])\n",
        "\n",
        "    # Create full dataset\n",
        "    full_dataset = RetinalDataset('/content/dataset/train', transform=transform)\n",
        "\n",
        "    # Split dataset (70% train, 30% test)\n",
        "    train_size = int(0.7 * len(full_dataset))\n",
        "    test_size = len(full_dataset) - train_size\n",
        "    train_dataset, test_dataset = random_split(full_dataset, [train_size, test_size])\n",
        "\n",
        "    # Create dataloaders\n",
        "    train_loader = DataLoader(train_dataset, batch_size=16, shuffle=True, num_workers=2)\n",
        "    test_loader = DataLoader(test_dataset, batch_size=16, shuffle=False, num_workers=2)\n",
        "\n",
        "    # Show and save transformed samples\n",
        "    show_transformed_samples(full_dataset)\n",
        "\n",
        "    # Initialize models and move to device\n",
        "    generator = Generator().to(device)\n",
        "    discriminator = Discriminator().to(device)\n",
        "    classifier_a = create_classifier().to(device)\n",
        "    classifier_b = create_classifier().to(device)\n",
        "\n",
        "    # Initialize optimizers\n",
        "    optimizer_g = optim.Adam(generator.parameters(), lr=0.0002, betas=(0.9, 0.999))\n",
        "    optimizer_d = optim.Adam(discriminator.parameters(), lr=0.0002, betas=(0.9, 0.999))\n",
        "    optimizer_cls_a = optim.Adam(classifier_a.parameters(), lr=0.001)\n",
        "    optimizer_cls_b = optim.Adam(classifier_b.parameters(), lr=0.001)\n",
        "\n",
        "    # Loss functions\n",
        "    criterion_gan = nn.BCELoss()\n",
        "    criterion_content = nn.MSELoss()\n",
        "    criterion_cls = nn.CrossEntropyLoss()\n",
        "\n",
        "    # Group models and optimizers\n",
        "    models = (generator, discriminator, classifier_a, classifier_b)\n",
        "    optimizers = (optimizer_g, optimizer_d, optimizer_cls_a, optimizer_cls_b)\n",
        "    criteria = (criterion_gan, criterion_content, criterion_cls)\n",
        "\n",
        "    # Train models\n",
        "    metrics_tracker = train_models(\n",
        "        train_loader, test_loader, models, optimizers, criteria, device,\n",
        "        num_epochs=150, save_interval=10\n",
        "    )\n",
        "\n",
        "    # Final evaluation\n",
        "    evaluate_models(test_loader, models, device)\n",
        "\n",
        "\n",
        "main()"
      ]
    }
  ]
}